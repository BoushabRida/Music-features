{
  "nbformat": 4,
  "nbformat_minor": 0,
  "metadata": {
    "colab": {
      "name": "RNBoushab.ipynb",
      "provenance": [],
      "collapsed_sections": [
        "wEX9jHfpCIrR",
        "NaOKfm2zCIrV",
        "tg9MtyuWCIsl",
        "G_HhN76kCIso",
        "BKOwwpLCCIsr"
      ]
    },
    "kernelspec": {
      "display_name": "Python 3",
      "language": "python",
      "name": "python3"
    },
    "language_info": {
      "codemirror_mode": {
        "name": "ipython",
        "version": 3
      },
      "file_extension": ".py",
      "mimetype": "text/x-python",
      "name": "python",
      "nbconvert_exporter": "python",
      "pygments_lexer": "ipython3",
      "version": "3.8.3"
    }
  },
  "cells": [
    {
      "cell_type": "markdown",
      "metadata": {
        "id": "tFzZBQlcCIqc"
      },
      "source": [
        "<h1><center>Music features projet</center>\n",
        "\n",
        "<h4><center>Rida Boushab </span></center><h4> \n",
        "<center><a href= https://www.linkedin.com/in/rida-boushab/ >Contact me</a></center>\n",
        "<center> date: 22/04/2021 </center>"
      ]
    },
    {
      "cell_type": "markdown",
      "metadata": {
        "id": "ID7jUFVWCIqn"
      },
      "source": [
        "# Importation des librairies "
      ]
    },
    {
      "cell_type": "code",
      "metadata": {
        "id": "ACDQE4zVCIqr"
      },
      "source": [
        "import tensorflow as tf\n",
        "import pandas as pd\n",
        "import numpy as np\n",
        "import matplotlib\n",
        "import os \n",
        "import sklearn \n",
        "from sklearn.model_selection import train_test_split\n",
        "from sklearn import preprocessing\n",
        "import matplotlib.pyplot as plt\n"
      ],
      "execution_count": 1,
      "outputs": []
    },
    {
      "cell_type": "markdown",
      "metadata": {
        "id": "FEi-pXlFCIqu"
      },
      "source": [
        "# Compatibilité des versions "
      ]
    },
    {
      "cell_type": "code",
      "metadata": {
        "colab": {
          "base_uri": "https://localhost:8080/"
        },
        "id": "CNB41eP6CIqx",
        "outputId": "85421e9b-03ee-479c-9fe8-ca6030a0a4f9"
      },
      "source": [
        "condition = (sklearn.__version__>=\"0.21.3\" and tf.version.VERSION >= \"2.1.0\" and pd.__version__ >= \"1.0.3\" and np.__version__ >= \"1.17.2\" and matplotlib.__version__ >= \"3.2.1\")\n",
        "\n",
        "print(\"Les versions des bibliothèques sont adéquates\") if condition else print(\"Veuillez mettre à jour les versions des bibliothèques\")\n"
      ],
      "execution_count": 2,
      "outputs": [
        {
          "output_type": "stream",
          "text": [
            "Les versions des bibliothèques sont adéquates\n"
          ],
          "name": "stdout"
        }
      ]
    },
    {
      "cell_type": "markdown",
      "metadata": {
        "id": "8p6Di3-Txp-w"
      },
      "source": [
        "# Exploration de la data"
      ]
    },
    {
      "cell_type": "code",
      "metadata": {
        "id": "-hEuGYR7xooe"
      },
      "source": [
        "data_explore = pd.read_csv('data.csv',sep=',',encoding ='UTF-8')"
      ],
      "execution_count": 3,
      "outputs": []
    },
    {
      "cell_type": "code",
      "metadata": {
        "colab": {
          "base_uri": "https://localhost:8080/"
        },
        "id": "f13G-70yx2xZ",
        "outputId": "146a8308-ea23-487a-8746-678cde6b6d0f"
      },
      "source": [
        "data_explore.info()"
      ],
      "execution_count": 4,
      "outputs": [
        {
          "output_type": "stream",
          "text": [
            "<class 'pandas.core.frame.DataFrame'>\n",
            "RangeIndex: 1000 entries, 0 to 999\n",
            "Data columns (total 30 columns):\n",
            " #   Column              Non-Null Count  Dtype  \n",
            "---  ------              --------------  -----  \n",
            " 0   filename            1000 non-null   object \n",
            " 1   tempo               1000 non-null   float64\n",
            " 2   beats               1000 non-null   int64  \n",
            " 3   chroma_stft         1000 non-null   float64\n",
            " 4   rmse                1000 non-null   float64\n",
            " 5   spectral_centroid   1000 non-null   float64\n",
            " 6   spectral_bandwidth  1000 non-null   float64\n",
            " 7   rolloff             1000 non-null   float64\n",
            " 8   zero_crossing_rate  1000 non-null   float64\n",
            " 9   mfcc1               1000 non-null   float64\n",
            " 10  mfcc2               1000 non-null   float64\n",
            " 11  mfcc3               1000 non-null   float64\n",
            " 12  mfcc4               1000 non-null   float64\n",
            " 13  mfcc5               1000 non-null   float64\n",
            " 14  mfcc6               1000 non-null   float64\n",
            " 15  mfcc7               1000 non-null   float64\n",
            " 16  mfcc8               1000 non-null   float64\n",
            " 17  mfcc9               1000 non-null   float64\n",
            " 18  mfcc10              1000 non-null   float64\n",
            " 19  mfcc11              1000 non-null   float64\n",
            " 20  mfcc12              1000 non-null   float64\n",
            " 21  mfcc13              1000 non-null   float64\n",
            " 22  mfcc14              1000 non-null   float64\n",
            " 23  mfcc15              1000 non-null   float64\n",
            " 24  mfcc16              1000 non-null   float64\n",
            " 25  mfcc17              1000 non-null   float64\n",
            " 26  mfcc18              1000 non-null   float64\n",
            " 27  mfcc19              1000 non-null   float64\n",
            " 28  mfcc20              1000 non-null   float64\n",
            " 29  label               1000 non-null   object \n",
            "dtypes: float64(27), int64(1), object(2)\n",
            "memory usage: 234.5+ KB\n"
          ],
          "name": "stdout"
        }
      ]
    },
    {
      "cell_type": "code",
      "metadata": {
        "id": "wOlpT9aiUJBy"
      },
      "source": [
        "del data_explore[\"filename\"]"
      ],
      "execution_count": 5,
      "outputs": []
    },
    {
      "cell_type": "code",
      "metadata": {
        "colab": {
          "base_uri": "https://localhost:8080/"
        },
        "id": "syUlXApox3OI",
        "outputId": "fb5c49fe-7668-499d-d47b-881bae057fb3"
      },
      "source": [
        "data_explore.shape"
      ],
      "execution_count": 6,
      "outputs": [
        {
          "output_type": "execute_result",
          "data": {
            "text/plain": [
              "(1000, 29)"
            ]
          },
          "metadata": {
            "tags": []
          },
          "execution_count": 6
        }
      ]
    },
    {
      "cell_type": "code",
      "metadata": {
        "id": "fiKGU15zXnjq"
      },
      "source": [
        "dta=data_explore.drop(columns=[\"label\"])\n",
        "dt= dta.values\n",
        "mms= preprocessing.MinMaxScaler()\n",
        "dt_scaled=mms.fit_transform(dt)\n",
        "daf=pd.DataFrame(dt_scaled, columns=dta.columns)"
      ],
      "execution_count": 7,
      "outputs": []
    },
    {
      "cell_type": "code",
      "metadata": {
        "colab": {
          "base_uri": "https://localhost:8080/",
          "height": 439
        },
        "id": "GCAABrkqZ-_D",
        "outputId": "d10b4a47-a5ed-4d41-b940-08715d1c8ceb"
      },
      "source": [
        "daf"
      ],
      "execution_count": 8,
      "outputs": [
        {
          "output_type": "execute_result",
          "data": {
            "text/html": [
              "<div>\n",
              "<style scoped>\n",
              "    .dataframe tbody tr th:only-of-type {\n",
              "        vertical-align: middle;\n",
              "    }\n",
              "\n",
              "    .dataframe tbody tr th {\n",
              "        vertical-align: top;\n",
              "    }\n",
              "\n",
              "    .dataframe thead th {\n",
              "        text-align: right;\n",
              "    }\n",
              "</style>\n",
              "<table border=\"1\" class=\"dataframe\">\n",
              "  <thead>\n",
              "    <tr style=\"text-align: right;\">\n",
              "      <th></th>\n",
              "      <th>tempo</th>\n",
              "      <th>beats</th>\n",
              "      <th>chroma_stft</th>\n",
              "      <th>rmse</th>\n",
              "      <th>spectral_centroid</th>\n",
              "      <th>spectral_bandwidth</th>\n",
              "      <th>rolloff</th>\n",
              "      <th>zero_crossing_rate</th>\n",
              "      <th>mfcc1</th>\n",
              "      <th>mfcc2</th>\n",
              "      <th>mfcc3</th>\n",
              "      <th>mfcc4</th>\n",
              "      <th>mfcc5</th>\n",
              "      <th>mfcc6</th>\n",
              "      <th>mfcc7</th>\n",
              "      <th>mfcc8</th>\n",
              "      <th>mfcc9</th>\n",
              "      <th>mfcc10</th>\n",
              "      <th>mfcc11</th>\n",
              "      <th>mfcc12</th>\n",
              "      <th>mfcc13</th>\n",
              "      <th>mfcc14</th>\n",
              "      <th>mfcc15</th>\n",
              "      <th>mfcc16</th>\n",
              "      <th>mfcc17</th>\n",
              "      <th>mfcc18</th>\n",
              "      <th>mfcc19</th>\n",
              "      <th>mfcc20</th>\n",
              "    </tr>\n",
              "  </thead>\n",
              "  <tbody>\n",
              "    <tr>\n",
              "      <th>0</th>\n",
              "      <td>0.268889</td>\n",
              "      <td>0.323232</td>\n",
              "      <td>0.423916</td>\n",
              "      <td>0.618702</td>\n",
              "      <td>0.400313</td>\n",
              "      <td>0.405354</td>\n",
              "      <td>0.434830</td>\n",
              "      <td>0.417068</td>\n",
              "      <td>0.883918</td>\n",
              "      <td>0.559342</td>\n",
              "      <td>0.294003</td>\n",
              "      <td>0.600254</td>\n",
              "      <td>0.247845</td>\n",
              "      <td>0.723403</td>\n",
              "      <td>0.255399</td>\n",
              "      <td>0.543503</td>\n",
              "      <td>0.326944</td>\n",
              "      <td>0.619182</td>\n",
              "      <td>0.281884</td>\n",
              "      <td>0.775996</td>\n",
              "      <td>0.337972</td>\n",
              "      <td>0.655438</td>\n",
              "      <td>0.380031</td>\n",
              "      <td>0.549466</td>\n",
              "      <td>0.362082</td>\n",
              "      <td>0.473100</td>\n",
              "      <td>0.329406</td>\n",
              "      <td>0.647351</td>\n",
              "    </tr>\n",
              "    <tr>\n",
              "      <th>1</th>\n",
              "      <td>0.226337</td>\n",
              "      <td>0.262626</td>\n",
              "      <td>0.273833</td>\n",
              "      <td>0.275502</td>\n",
              "      <td>0.151673</td>\n",
              "      <td>0.229621</td>\n",
              "      <td>0.179252</td>\n",
              "      <td>0.145826</td>\n",
              "      <td>0.535607</td>\n",
              "      <td>0.707506</td>\n",
              "      <td>0.635822</td>\n",
              "      <td>0.680674</td>\n",
              "      <td>0.676508</td>\n",
              "      <td>0.575823</td>\n",
              "      <td>0.699169</td>\n",
              "      <td>0.342437</td>\n",
              "      <td>0.357660</td>\n",
              "      <td>0.736554</td>\n",
              "      <td>0.730044</td>\n",
              "      <td>0.348962</td>\n",
              "      <td>0.775963</td>\n",
              "      <td>0.582610</td>\n",
              "      <td>0.613900</td>\n",
              "      <td>0.500178</td>\n",
              "      <td>0.441233</td>\n",
              "      <td>0.348720</td>\n",
              "      <td>0.657438</td>\n",
              "      <td>0.547434</td>\n",
              "    </tr>\n",
              "    <tr>\n",
              "      <th>2</th>\n",
              "      <td>0.539216</td>\n",
              "      <td>0.575758</td>\n",
              "      <td>0.166137</td>\n",
              "      <td>0.372502</td>\n",
              "      <td>0.196957</td>\n",
              "      <td>0.411876</td>\n",
              "      <td>0.271353</td>\n",
              "      <td>0.084015</td>\n",
              "      <td>0.555903</td>\n",
              "      <td>0.577372</td>\n",
              "      <td>0.740426</td>\n",
              "      <td>0.499614</td>\n",
              "      <td>0.599655</td>\n",
              "      <td>0.693119</td>\n",
              "      <td>0.228509</td>\n",
              "      <td>0.501153</td>\n",
              "      <td>0.104468</td>\n",
              "      <td>0.195959</td>\n",
              "      <td>0.036188</td>\n",
              "      <td>0.071249</td>\n",
              "      <td>0.366781</td>\n",
              "      <td>0.350348</td>\n",
              "      <td>0.343957</td>\n",
              "      <td>0.309760</td>\n",
              "      <td>0.088624</td>\n",
              "      <td>0.009374</td>\n",
              "      <td>0.225331</td>\n",
              "      <td>0.185472</td>\n",
              "    </tr>\n",
              "    <tr>\n",
              "      <th>3</th>\n",
              "      <td>0.720238</td>\n",
              "      <td>0.737374</td>\n",
              "      <td>0.198332</td>\n",
              "      <td>0.289752</td>\n",
              "      <td>0.204713</td>\n",
              "      <td>0.256477</td>\n",
              "      <td>0.251101</td>\n",
              "      <td>0.187349</td>\n",
              "      <td>0.580469</td>\n",
              "      <td>0.690185</td>\n",
              "      <td>0.508041</td>\n",
              "      <td>0.801884</td>\n",
              "      <td>0.563195</td>\n",
              "      <td>0.555212</td>\n",
              "      <td>0.622929</td>\n",
              "      <td>0.316451</td>\n",
              "      <td>0.271057</td>\n",
              "      <td>0.519754</td>\n",
              "      <td>0.562972</td>\n",
              "      <td>0.391114</td>\n",
              "      <td>0.687919</td>\n",
              "      <td>0.494268</td>\n",
              "      <td>0.413220</td>\n",
              "      <td>0.211441</td>\n",
              "      <td>0.277994</td>\n",
              "      <td>0.333666</td>\n",
              "      <td>0.514761</td>\n",
              "      <td>0.396627</td>\n",
              "    </tr>\n",
              "    <tr>\n",
              "      <th>4</th>\n",
              "      <td>0.592014</td>\n",
              "      <td>0.565657</td>\n",
              "      <td>0.445874</td>\n",
              "      <td>0.337256</td>\n",
              "      <td>0.321165</td>\n",
              "      <td>0.442007</td>\n",
              "      <td>0.400985</td>\n",
              "      <td>0.212457</td>\n",
              "      <td>0.684448</td>\n",
              "      <td>0.536195</td>\n",
              "      <td>0.527972</td>\n",
              "      <td>0.761735</td>\n",
              "      <td>0.585159</td>\n",
              "      <td>0.747522</td>\n",
              "      <td>0.523263</td>\n",
              "      <td>0.571697</td>\n",
              "      <td>0.466058</td>\n",
              "      <td>0.694883</td>\n",
              "      <td>0.464397</td>\n",
              "      <td>0.598887</td>\n",
              "      <td>0.420524</td>\n",
              "      <td>0.332840</td>\n",
              "      <td>0.359891</td>\n",
              "      <td>0.629740</td>\n",
              "      <td>0.434118</td>\n",
              "      <td>0.403097</td>\n",
              "      <td>0.558253</td>\n",
              "      <td>0.507869</td>\n",
              "    </tr>\n",
              "    <tr>\n",
              "      <th>...</th>\n",
              "      <td>...</td>\n",
              "      <td>...</td>\n",
              "      <td>...</td>\n",
              "      <td>...</td>\n",
              "      <td>...</td>\n",
              "      <td>...</td>\n",
              "      <td>...</td>\n",
              "      <td>...</td>\n",
              "      <td>...</td>\n",
              "      <td>...</td>\n",
              "      <td>...</td>\n",
              "      <td>...</td>\n",
              "      <td>...</td>\n",
              "      <td>...</td>\n",
              "      <td>...</td>\n",
              "      <td>...</td>\n",
              "      <td>...</td>\n",
              "      <td>...</td>\n",
              "      <td>...</td>\n",
              "      <td>...</td>\n",
              "      <td>...</td>\n",
              "      <td>...</td>\n",
              "      <td>...</td>\n",
              "      <td>...</td>\n",
              "      <td>...</td>\n",
              "      <td>...</td>\n",
              "      <td>...</td>\n",
              "      <td>...</td>\n",
              "    </tr>\n",
              "    <tr>\n",
              "      <th>995</th>\n",
              "      <td>0.378307</td>\n",
              "      <td>0.414141</td>\n",
              "      <td>0.502306</td>\n",
              "      <td>0.409384</td>\n",
              "      <td>0.450795</td>\n",
              "      <td>0.445259</td>\n",
              "      <td>0.476722</td>\n",
              "      <td>0.469670</td>\n",
              "      <td>0.859558</td>\n",
              "      <td>0.549420</td>\n",
              "      <td>0.313546</td>\n",
              "      <td>0.732647</td>\n",
              "      <td>0.291229</td>\n",
              "      <td>0.705802</td>\n",
              "      <td>0.279821</td>\n",
              "      <td>0.616608</td>\n",
              "      <td>0.259907</td>\n",
              "      <td>0.751936</td>\n",
              "      <td>0.283199</td>\n",
              "      <td>0.697898</td>\n",
              "      <td>0.329750</td>\n",
              "      <td>0.501389</td>\n",
              "      <td>0.269793</td>\n",
              "      <td>0.652376</td>\n",
              "      <td>0.314359</td>\n",
              "      <td>0.572795</td>\n",
              "      <td>0.446825</td>\n",
              "      <td>0.560047</td>\n",
              "    </tr>\n",
              "    <tr>\n",
              "      <th>996</th>\n",
              "      <td>0.347222</td>\n",
              "      <td>0.383838</td>\n",
              "      <td>0.333459</td>\n",
              "      <td>0.225088</td>\n",
              "      <td>0.513371</td>\n",
              "      <td>0.505860</td>\n",
              "      <td>0.551848</td>\n",
              "      <td>0.452232</td>\n",
              "      <td>0.724885</td>\n",
              "      <td>0.467823</td>\n",
              "      <td>0.384834</td>\n",
              "      <td>0.610732</td>\n",
              "      <td>0.184283</td>\n",
              "      <td>0.699079</td>\n",
              "      <td>0.231189</td>\n",
              "      <td>0.531349</td>\n",
              "      <td>0.301333</td>\n",
              "      <td>0.740825</td>\n",
              "      <td>0.243993</td>\n",
              "      <td>0.642455</td>\n",
              "      <td>0.429352</td>\n",
              "      <td>0.546482</td>\n",
              "      <td>0.274090</td>\n",
              "      <td>0.593343</td>\n",
              "      <td>0.232407</td>\n",
              "      <td>0.476776</td>\n",
              "      <td>0.507646</td>\n",
              "      <td>0.778362</td>\n",
              "    </tr>\n",
              "    <tr>\n",
              "      <th>997</th>\n",
              "      <td>0.268889</td>\n",
              "      <td>0.272727</td>\n",
              "      <td>0.408816</td>\n",
              "      <td>0.518076</td>\n",
              "      <td>0.200781</td>\n",
              "      <td>0.361372</td>\n",
              "      <td>0.276285</td>\n",
              "      <td>0.076635</td>\n",
              "      <td>0.713883</td>\n",
              "      <td>0.698636</td>\n",
              "      <td>0.620387</td>\n",
              "      <td>0.736071</td>\n",
              "      <td>0.546273</td>\n",
              "      <td>0.873045</td>\n",
              "      <td>0.403012</td>\n",
              "      <td>0.558778</td>\n",
              "      <td>0.425780</td>\n",
              "      <td>0.475025</td>\n",
              "      <td>0.469556</td>\n",
              "      <td>0.691221</td>\n",
              "      <td>0.471885</td>\n",
              "      <td>0.478205</td>\n",
              "      <td>0.374785</td>\n",
              "      <td>0.572346</td>\n",
              "      <td>0.414444</td>\n",
              "      <td>0.407001</td>\n",
              "      <td>0.416925</td>\n",
              "      <td>0.429058</td>\n",
              "    </tr>\n",
              "    <tr>\n",
              "      <th>998</th>\n",
              "      <td>0.318841</td>\n",
              "      <td>0.272727</td>\n",
              "      <td>0.351145</td>\n",
              "      <td>0.445305</td>\n",
              "      <td>0.286076</td>\n",
              "      <td>0.289261</td>\n",
              "      <td>0.315932</td>\n",
              "      <td>0.259132</td>\n",
              "      <td>0.763691</td>\n",
              "      <td>0.709774</td>\n",
              "      <td>0.294749</td>\n",
              "      <td>0.655801</td>\n",
              "      <td>0.309356</td>\n",
              "      <td>0.528954</td>\n",
              "      <td>0.335566</td>\n",
              "      <td>0.560939</td>\n",
              "      <td>0.380746</td>\n",
              "      <td>0.400855</td>\n",
              "      <td>0.338764</td>\n",
              "      <td>0.482743</td>\n",
              "      <td>0.370304</td>\n",
              "      <td>0.412546</td>\n",
              "      <td>0.560835</td>\n",
              "      <td>0.342684</td>\n",
              "      <td>0.299357</td>\n",
              "      <td>0.368193</td>\n",
              "      <td>0.491320</td>\n",
              "      <td>0.468501</td>\n",
              "    </tr>\n",
              "    <tr>\n",
              "      <th>999</th>\n",
              "      <td>0.116830</td>\n",
              "      <td>0.181818</td>\n",
              "      <td>0.382919</td>\n",
              "      <td>0.096042</td>\n",
              "      <td>0.424226</td>\n",
              "      <td>0.489059</td>\n",
              "      <td>0.482700</td>\n",
              "      <td>0.337562</td>\n",
              "      <td>0.516586</td>\n",
              "      <td>0.496430</td>\n",
              "      <td>0.468544</td>\n",
              "      <td>0.647772</td>\n",
              "      <td>0.502334</td>\n",
              "      <td>0.589703</td>\n",
              "      <td>0.224105</td>\n",
              "      <td>0.601318</td>\n",
              "      <td>0.195964</td>\n",
              "      <td>0.493521</td>\n",
              "      <td>0.412768</td>\n",
              "      <td>0.427853</td>\n",
              "      <td>0.357762</td>\n",
              "      <td>0.411306</td>\n",
              "      <td>0.311427</td>\n",
              "      <td>0.574467</td>\n",
              "      <td>0.320217</td>\n",
              "      <td>0.423273</td>\n",
              "      <td>0.426448</td>\n",
              "      <td>0.445109</td>\n",
              "    </tr>\n",
              "  </tbody>\n",
              "</table>\n",
              "<p>1000 rows × 28 columns</p>\n",
              "</div>"
            ],
            "text/plain": [
              "        tempo     beats  chroma_stft  ...    mfcc18    mfcc19    mfcc20\n",
              "0    0.268889  0.323232     0.423916  ...  0.473100  0.329406  0.647351\n",
              "1    0.226337  0.262626     0.273833  ...  0.348720  0.657438  0.547434\n",
              "2    0.539216  0.575758     0.166137  ...  0.009374  0.225331  0.185472\n",
              "3    0.720238  0.737374     0.198332  ...  0.333666  0.514761  0.396627\n",
              "4    0.592014  0.565657     0.445874  ...  0.403097  0.558253  0.507869\n",
              "..        ...       ...          ...  ...       ...       ...       ...\n",
              "995  0.378307  0.414141     0.502306  ...  0.572795  0.446825  0.560047\n",
              "996  0.347222  0.383838     0.333459  ...  0.476776  0.507646  0.778362\n",
              "997  0.268889  0.272727     0.408816  ...  0.407001  0.416925  0.429058\n",
              "998  0.318841  0.272727     0.351145  ...  0.368193  0.491320  0.468501\n",
              "999  0.116830  0.181818     0.382919  ...  0.423273  0.426448  0.445109\n",
              "\n",
              "[1000 rows x 28 columns]"
            ]
          },
          "metadata": {
            "tags": []
          },
          "execution_count": 8
        }
      ]
    },
    {
      "cell_type": "code",
      "metadata": {
        "colab": {
          "base_uri": "https://localhost:8080/",
          "height": 439
        },
        "id": "9sv_euElTS1L",
        "outputId": "b0656c51-6ee5-4be8-a6c3-cd5fc2b54e5e"
      },
      "source": [
        "data_explore"
      ],
      "execution_count": 9,
      "outputs": [
        {
          "output_type": "execute_result",
          "data": {
            "text/html": [
              "<div>\n",
              "<style scoped>\n",
              "    .dataframe tbody tr th:only-of-type {\n",
              "        vertical-align: middle;\n",
              "    }\n",
              "\n",
              "    .dataframe tbody tr th {\n",
              "        vertical-align: top;\n",
              "    }\n",
              "\n",
              "    .dataframe thead th {\n",
              "        text-align: right;\n",
              "    }\n",
              "</style>\n",
              "<table border=\"1\" class=\"dataframe\">\n",
              "  <thead>\n",
              "    <tr style=\"text-align: right;\">\n",
              "      <th></th>\n",
              "      <th>tempo</th>\n",
              "      <th>beats</th>\n",
              "      <th>chroma_stft</th>\n",
              "      <th>rmse</th>\n",
              "      <th>spectral_centroid</th>\n",
              "      <th>spectral_bandwidth</th>\n",
              "      <th>rolloff</th>\n",
              "      <th>zero_crossing_rate</th>\n",
              "      <th>mfcc1</th>\n",
              "      <th>mfcc2</th>\n",
              "      <th>mfcc3</th>\n",
              "      <th>mfcc4</th>\n",
              "      <th>mfcc5</th>\n",
              "      <th>mfcc6</th>\n",
              "      <th>mfcc7</th>\n",
              "      <th>mfcc8</th>\n",
              "      <th>mfcc9</th>\n",
              "      <th>mfcc10</th>\n",
              "      <th>mfcc11</th>\n",
              "      <th>mfcc12</th>\n",
              "      <th>mfcc13</th>\n",
              "      <th>mfcc14</th>\n",
              "      <th>mfcc15</th>\n",
              "      <th>mfcc16</th>\n",
              "      <th>mfcc17</th>\n",
              "      <th>mfcc18</th>\n",
              "      <th>mfcc19</th>\n",
              "      <th>mfcc20</th>\n",
              "      <th>label</th>\n",
              "    </tr>\n",
              "  </thead>\n",
              "  <tbody>\n",
              "    <tr>\n",
              "      <th>0</th>\n",
              "      <td>103.359375</td>\n",
              "      <td>50</td>\n",
              "      <td>0.380260</td>\n",
              "      <td>0.248262</td>\n",
              "      <td>2116.942959</td>\n",
              "      <td>1956.611056</td>\n",
              "      <td>4196.107960</td>\n",
              "      <td>0.127272</td>\n",
              "      <td>-26.929785</td>\n",
              "      <td>107.334008</td>\n",
              "      <td>-46.809993</td>\n",
              "      <td>40.932634</td>\n",
              "      <td>-21.463776</td>\n",
              "      <td>24.816275</td>\n",
              "      <td>-18.945571</td>\n",
              "      <td>15.253459</td>\n",
              "      <td>-15.050104</td>\n",
              "      <td>12.262823</td>\n",
              "      <td>-15.234050</td>\n",
              "      <td>14.336612</td>\n",
              "      <td>-13.821769</td>\n",
              "      <td>7.562789</td>\n",
              "      <td>-6.181372</td>\n",
              "      <td>0.330165</td>\n",
              "      <td>-6.829571</td>\n",
              "      <td>0.965922</td>\n",
              "      <td>-7.570825</td>\n",
              "      <td>2.918987</td>\n",
              "      <td>blues</td>\n",
              "    </tr>\n",
              "    <tr>\n",
              "      <th>1</th>\n",
              "      <td>95.703125</td>\n",
              "      <td>44</td>\n",
              "      <td>0.306451</td>\n",
              "      <td>0.113475</td>\n",
              "      <td>1156.070496</td>\n",
              "      <td>1497.668176</td>\n",
              "      <td>2170.053545</td>\n",
              "      <td>0.058613</td>\n",
              "      <td>-233.860772</td>\n",
              "      <td>136.170239</td>\n",
              "      <td>3.289490</td>\n",
              "      <td>48.931193</td>\n",
              "      <td>8.699106</td>\n",
              "      <td>13.954752</td>\n",
              "      <td>5.359449</td>\n",
              "      <td>0.381334</td>\n",
              "      <td>-13.490265</td>\n",
              "      <td>16.871769</td>\n",
              "      <td>5.145258</td>\n",
              "      <td>-2.250578</td>\n",
              "      <td>3.959198</td>\n",
              "      <td>5.322555</td>\n",
              "      <td>0.812028</td>\n",
              "      <td>-1.107202</td>\n",
              "      <td>-4.556555</td>\n",
              "      <td>-2.436490</td>\n",
              "      <td>3.316913</td>\n",
              "      <td>-0.608485</td>\n",
              "      <td>blues</td>\n",
              "    </tr>\n",
              "    <tr>\n",
              "      <th>2</th>\n",
              "      <td>151.999081</td>\n",
              "      <td>75</td>\n",
              "      <td>0.253487</td>\n",
              "      <td>0.151571</td>\n",
              "      <td>1331.073970</td>\n",
              "      <td>1973.643437</td>\n",
              "      <td>2900.174130</td>\n",
              "      <td>0.042967</td>\n",
              "      <td>-221.802549</td>\n",
              "      <td>110.843070</td>\n",
              "      <td>18.620984</td>\n",
              "      <td>30.922996</td>\n",
              "      <td>3.291330</td>\n",
              "      <td>22.587447</td>\n",
              "      <td>-20.418303</td>\n",
              "      <td>12.120995</td>\n",
              "      <td>-26.347956</td>\n",
              "      <td>-4.356270</td>\n",
              "      <td>-26.406674</td>\n",
              "      <td>-13.037723</td>\n",
              "      <td>-12.652228</td>\n",
              "      <td>-1.821905</td>\n",
              "      <td>-7.260097</td>\n",
              "      <td>-6.660252</td>\n",
              "      <td>-14.682694</td>\n",
              "      <td>-11.719264</td>\n",
              "      <td>-11.025216</td>\n",
              "      <td>-13.387260</td>\n",
              "      <td>blues</td>\n",
              "    </tr>\n",
              "    <tr>\n",
              "      <th>3</th>\n",
              "      <td>184.570312</td>\n",
              "      <td>91</td>\n",
              "      <td>0.269320</td>\n",
              "      <td>0.119072</td>\n",
              "      <td>1361.045467</td>\n",
              "      <td>1567.804596</td>\n",
              "      <td>2739.625101</td>\n",
              "      <td>0.069124</td>\n",
              "      <td>-207.208080</td>\n",
              "      <td>132.799175</td>\n",
              "      <td>-15.438986</td>\n",
              "      <td>60.986727</td>\n",
              "      <td>0.725807</td>\n",
              "      <td>12.437828</td>\n",
              "      <td>1.183836</td>\n",
              "      <td>-1.540779</td>\n",
              "      <td>-17.888154</td>\n",
              "      <td>8.358496</td>\n",
              "      <td>-2.452068</td>\n",
              "      <td>-0.613248</td>\n",
              "      <td>0.384877</td>\n",
              "      <td>2.605128</td>\n",
              "      <td>-5.188924</td>\n",
              "      <td>-9.527455</td>\n",
              "      <td>-9.244394</td>\n",
              "      <td>-2.848274</td>\n",
              "      <td>-1.418707</td>\n",
              "      <td>-5.932607</td>\n",
              "      <td>blues</td>\n",
              "    </tr>\n",
              "    <tr>\n",
              "      <th>4</th>\n",
              "      <td>161.499023</td>\n",
              "      <td>74</td>\n",
              "      <td>0.391059</td>\n",
              "      <td>0.137728</td>\n",
              "      <td>1811.076084</td>\n",
              "      <td>2052.332563</td>\n",
              "      <td>3927.809582</td>\n",
              "      <td>0.075480</td>\n",
              "      <td>-145.434568</td>\n",
              "      <td>102.829023</td>\n",
              "      <td>-12.517677</td>\n",
              "      <td>56.993472</td>\n",
              "      <td>2.271347</td>\n",
              "      <td>26.591402</td>\n",
              "      <td>-4.274803</td>\n",
              "      <td>17.338809</td>\n",
              "      <td>-7.985593</td>\n",
              "      <td>15.235427</td>\n",
              "      <td>-6.934599</td>\n",
              "      <td>7.457218</td>\n",
              "      <td>-10.470444</td>\n",
              "      <td>-2.360483</td>\n",
              "      <td>-6.783623</td>\n",
              "      <td>2.671134</td>\n",
              "      <td>-4.760879</td>\n",
              "      <td>-0.949005</td>\n",
              "      <td>0.024832</td>\n",
              "      <td>-2.005315</td>\n",
              "      <td>blues</td>\n",
              "    </tr>\n",
              "    <tr>\n",
              "      <th>...</th>\n",
              "      <td>...</td>\n",
              "      <td>...</td>\n",
              "      <td>...</td>\n",
              "      <td>...</td>\n",
              "      <td>...</td>\n",
              "      <td>...</td>\n",
              "      <td>...</td>\n",
              "      <td>...</td>\n",
              "      <td>...</td>\n",
              "      <td>...</td>\n",
              "      <td>...</td>\n",
              "      <td>...</td>\n",
              "      <td>...</td>\n",
              "      <td>...</td>\n",
              "      <td>...</td>\n",
              "      <td>...</td>\n",
              "      <td>...</td>\n",
              "      <td>...</td>\n",
              "      <td>...</td>\n",
              "      <td>...</td>\n",
              "      <td>...</td>\n",
              "      <td>...</td>\n",
              "      <td>...</td>\n",
              "      <td>...</td>\n",
              "      <td>...</td>\n",
              "      <td>...</td>\n",
              "      <td>...</td>\n",
              "      <td>...</td>\n",
              "      <td>...</td>\n",
              "    </tr>\n",
              "    <tr>\n",
              "      <th>995</th>\n",
              "      <td>123.046875</td>\n",
              "      <td>59</td>\n",
              "      <td>0.418812</td>\n",
              "      <td>0.166056</td>\n",
              "      <td>2312.030070</td>\n",
              "      <td>2060.825761</td>\n",
              "      <td>4528.197619</td>\n",
              "      <td>0.140588</td>\n",
              "      <td>-41.402023</td>\n",
              "      <td>105.403012</td>\n",
              "      <td>-43.945538</td>\n",
              "      <td>54.100395</td>\n",
              "      <td>-18.411090</td>\n",
              "      <td>23.520838</td>\n",
              "      <td>-17.607988</td>\n",
              "      <td>20.660727</td>\n",
              "      <td>-18.454381</td>\n",
              "      <td>17.475770</td>\n",
              "      <td>-15.174259</td>\n",
              "      <td>11.303100</td>\n",
              "      <td>-14.155566</td>\n",
              "      <td>2.824157</td>\n",
              "      <td>-9.477822</td>\n",
              "      <td>3.331261</td>\n",
              "      <td>-8.200088</td>\n",
              "      <td>3.693091</td>\n",
              "      <td>-3.673562</td>\n",
              "      <td>-0.163201</td>\n",
              "      <td>rock</td>\n",
              "    </tr>\n",
              "    <tr>\n",
              "      <th>996</th>\n",
              "      <td>117.453835</td>\n",
              "      <td>56</td>\n",
              "      <td>0.335774</td>\n",
              "      <td>0.093676</td>\n",
              "      <td>2553.856706</td>\n",
              "      <td>2219.090892</td>\n",
              "      <td>5123.752351</td>\n",
              "      <td>0.136173</td>\n",
              "      <td>-121.410791</td>\n",
              "      <td>89.522283</td>\n",
              "      <td>-33.497073</td>\n",
              "      <td>41.974745</td>\n",
              "      <td>-25.936361</td>\n",
              "      <td>23.026082</td>\n",
              "      <td>-20.271538</td>\n",
              "      <td>14.354429</td>\n",
              "      <td>-16.350707</td>\n",
              "      <td>17.039462</td>\n",
              "      <td>-16.957086</td>\n",
              "      <td>9.149520</td>\n",
              "      <td>-10.112054</td>\n",
              "      <td>4.211237</td>\n",
              "      <td>-9.349345</td>\n",
              "      <td>1.609701</td>\n",
              "      <td>-10.553566</td>\n",
              "      <td>1.066489</td>\n",
              "      <td>-1.654875</td>\n",
              "      <td>7.544224</td>\n",
              "      <td>rock</td>\n",
              "    </tr>\n",
              "    <tr>\n",
              "      <th>997</th>\n",
              "      <td>103.359375</td>\n",
              "      <td>45</td>\n",
              "      <td>0.372834</td>\n",
              "      <td>0.208743</td>\n",
              "      <td>1345.850763</td>\n",
              "      <td>1841.748033</td>\n",
              "      <td>2939.265560</td>\n",
              "      <td>0.041099</td>\n",
              "      <td>-127.946876</td>\n",
              "      <td>134.443879</td>\n",
              "      <td>1.027332</td>\n",
              "      <td>54.440979</td>\n",
              "      <td>-0.464906</td>\n",
              "      <td>35.829542</td>\n",
              "      <td>-10.860896</td>\n",
              "      <td>16.383278</td>\n",
              "      <td>-10.030961</td>\n",
              "      <td>6.602061</td>\n",
              "      <td>-6.700004</td>\n",
              "      <td>11.043714</td>\n",
              "      <td>-8.385375</td>\n",
              "      <td>2.111019</td>\n",
              "      <td>-6.338260</td>\n",
              "      <td>0.997383</td>\n",
              "      <td>-5.325869</td>\n",
              "      <td>-0.842192</td>\n",
              "      <td>-4.665996</td>\n",
              "      <td>-4.787677</td>\n",
              "      <td>rock</td>\n",
              "    </tr>\n",
              "    <tr>\n",
              "      <th>998</th>\n",
              "      <td>112.347147</td>\n",
              "      <td>45</td>\n",
              "      <td>0.344472</td>\n",
              "      <td>0.180163</td>\n",
              "      <td>1675.475369</td>\n",
              "      <td>1653.422860</td>\n",
              "      <td>3253.563659</td>\n",
              "      <td>0.087294</td>\n",
              "      <td>-98.356322</td>\n",
              "      <td>136.611573</td>\n",
              "      <td>-46.700574</td>\n",
              "      <td>46.457300</td>\n",
              "      <td>-17.135585</td>\n",
              "      <td>10.505286</td>\n",
              "      <td>-14.554871</td>\n",
              "      <td>16.543108</td>\n",
              "      <td>-12.317913</td>\n",
              "      <td>3.689543</td>\n",
              "      <td>-12.647550</td>\n",
              "      <td>2.945863</td>\n",
              "      <td>-12.509212</td>\n",
              "      <td>0.091337</td>\n",
              "      <td>-0.774780</td>\n",
              "      <td>-5.700102</td>\n",
              "      <td>-8.630916</td>\n",
              "      <td>-1.903803</td>\n",
              "      <td>-2.196753</td>\n",
              "      <td>-3.395148</td>\n",
              "      <td>rock</td>\n",
              "    </tr>\n",
              "    <tr>\n",
              "      <th>999</th>\n",
              "      <td>75.999540</td>\n",
              "      <td>36</td>\n",
              "      <td>0.360098</td>\n",
              "      <td>0.042995</td>\n",
              "      <td>2209.357588</td>\n",
              "      <td>2175.214294</td>\n",
              "      <td>4575.588999</td>\n",
              "      <td>0.107147</td>\n",
              "      <td>-245.160921</td>\n",
              "      <td>95.089813</td>\n",
              "      <td>-21.228014</td>\n",
              "      <td>45.658729</td>\n",
              "      <td>-3.556667</td>\n",
              "      <td>14.976283</td>\n",
              "      <td>-20.659519</td>\n",
              "      <td>19.529804</td>\n",
              "      <td>-21.701568</td>\n",
              "      <td>7.328369</td>\n",
              "      <td>-9.282356</td>\n",
              "      <td>0.813777</td>\n",
              "      <td>-13.018359</td>\n",
              "      <td>0.053168</td>\n",
              "      <td>-8.232851</td>\n",
              "      <td>1.059255</td>\n",
              "      <td>-8.031864</td>\n",
              "      <td>-0.397097</td>\n",
              "      <td>-4.349921</td>\n",
              "      <td>-4.220998</td>\n",
              "      <td>rock</td>\n",
              "    </tr>\n",
              "  </tbody>\n",
              "</table>\n",
              "<p>1000 rows × 29 columns</p>\n",
              "</div>"
            ],
            "text/plain": [
              "          tempo  beats  chroma_stft  ...     mfcc19     mfcc20  label\n",
              "0    103.359375     50     0.380260  ...  -7.570825   2.918987  blues\n",
              "1     95.703125     44     0.306451  ...   3.316913  -0.608485  blues\n",
              "2    151.999081     75     0.253487  ... -11.025216 -13.387260  blues\n",
              "3    184.570312     91     0.269320  ...  -1.418707  -5.932607  blues\n",
              "4    161.499023     74     0.391059  ...   0.024832  -2.005315  blues\n",
              "..          ...    ...          ...  ...        ...        ...    ...\n",
              "995  123.046875     59     0.418812  ...  -3.673562  -0.163201   rock\n",
              "996  117.453835     56     0.335774  ...  -1.654875   7.544224   rock\n",
              "997  103.359375     45     0.372834  ...  -4.665996  -4.787677   rock\n",
              "998  112.347147     45     0.344472  ...  -2.196753  -3.395148   rock\n",
              "999   75.999540     36     0.360098  ...  -4.349921  -4.220998   rock\n",
              "\n",
              "[1000 rows x 29 columns]"
            ]
          },
          "metadata": {
            "tags": []
          },
          "execution_count": 9
        }
      ]
    },
    {
      "cell_type": "code",
      "metadata": {
        "id": "9uOa3OIkgilo"
      },
      "source": [
        "s= data_explore[\"label\"]\n",
        "labels, uniques = s.factorize()"
      ],
      "execution_count": 10,
      "outputs": []
    },
    {
      "cell_type": "code",
      "metadata": {
        "colab": {
          "base_uri": "https://localhost:8080/"
        },
        "id": "tNoKGkjCx3sn",
        "outputId": "5fa612c2-a6ac-4c22-837c-c04f200620c7"
      },
      "source": [
        "print('Pas de valeur NULL dans la data.') if data_explore.isnull().values.any()==False else print('Valeur NULL existe')"
      ],
      "execution_count": 13,
      "outputs": [
        {
          "output_type": "stream",
          "text": [
            "Pas de valeur NULL dans la data.\n"
          ],
          "name": "stdout"
        }
      ]
    },
    {
      "cell_type": "markdown",
      "metadata": {
        "id": "1NIvnIeTCIq1"
      },
      "source": [
        "# Lecture des données "
      ]
    },
    {
      "cell_type": "markdown",
      "metadata": {
        "id": "jhP1gtxICIq4"
      },
      "source": [
        "La lecture se fait à partir du disque local du fichier csv **\"data.csv\"**.(depuis Kaggle)"
      ]
    },
    {
      "cell_type": "code",
      "metadata": {
        "id": "ew8cqct-CIq6"
      },
      "source": [
        "def load_data(file):\n",
        "    df = pd.read_csv(file,encoding ='UTF-8')\n",
        "    del df[\"filename\"]\n",
        "    return df\n"
      ],
      "execution_count": 14,
      "outputs": []
    },
    {
      "cell_type": "code",
      "metadata": {
        "id": "GcQkh51wCIq9"
      },
      "source": [
        "df_music = load_data(\"data.csv\")"
      ],
      "execution_count": 15,
      "outputs": []
    },
    {
      "cell_type": "markdown",
      "metadata": {
        "id": "WgKOoBQ2CIq_"
      },
      "source": [
        "# Division des données"
      ]
    },
    {
      "cell_type": "markdown",
      "metadata": {
        "id": "NMcVcaNECIrB"
      },
      "source": [
        "La division des données se fera en 2 étapes :\n",
        "\n",
        "- étape 1 : Prendre un pourcentage (p_test) des données pour le test et un autre pour l'entraînement et la vlaidation\n",
        "\n",
        "- étape 2 : De la base de données d'entraînement et de validation, définir une portion pour l'entraînement et une autres pour la validation\n",
        "  "
      ]
    },
    {
      "cell_type": "code",
      "metadata": {
        "id": "Y4BUs12tCIrD"
      },
      "source": [
        "def scale_divide_data_stratified(df,p_train=0.8,p_test=0.1,p_val=0.1):\n",
        "    s = df[\"label\"]\n",
        "    labels, uniques = s.factorize()\n",
        "    s=labels\n",
        "    y = pd.Series(s)\n",
        "\n",
        "    XX = df.drop(columns=[\"label\"])\n",
        "    dt= XX.values\n",
        "    mms= preprocessing.MinMaxScaler()\n",
        "    dt_scaled=mms.fit_transform(dt)\n",
        "    X=pd.DataFrame(dt_scaled, columns=XX.columns)\n",
        "\n",
        "    # The stratify attribute is to have the same portion of classes in train, validation and test\n",
        "    X_train_val, X_test, y_train_val, y_test = train_test_split(X, y, test_size=p_test, random_state=42,stratify=y)\n",
        "    X_train,X_val,y_train,y_val = train_test_split(X_train_val, y_train_val, test_size=p_val, \n",
        "                                                   random_state=42,stratify=y_train_val)\n",
        "    \n",
        "    filenames = [\"data/X_train.csv\",\"data/X_test.csv\",\"data/X_val.csv\",\"data/y_train.csv\",\n",
        "                 \"data/y_test.csv\",\"data/y_val.csv\"]\n",
        "    os.makedirs(\"data\", exist_ok=True)\n",
        "    data = [X_train,X_test,X_val,y_train,y_test,y_val]\n",
        "    for i in range(len(data)):\n",
        "        data[i].to_csv(filenames[i])\n",
        "    \n",
        "    return X_train,y_train,X_val,y_val,X_test,y_test\n"
      ],
      "execution_count": 16,
      "outputs": []
    },
    {
      "cell_type": "code",
      "metadata": {
        "id": "B9DikY6MCIrF"
      },
      "source": [
        "X_train,y_train,X_val,y_val,X_test,y_test = scale_divide_data_stratified(df_music)"
      ],
      "execution_count": 17,
      "outputs": []
    },
    {
      "cell_type": "code",
      "metadata": {
        "colab": {
          "base_uri": "https://localhost:8080/"
        },
        "id": "fnPbsL3cdaNG",
        "outputId": "9b5a7d9f-58ae-4e45-f578-0396e70b8e73"
      },
      "source": [
        "X_train.shape\n",
        "\n",
        "\n",
        "\n"
      ],
      "execution_count": 18,
      "outputs": [
        {
          "output_type": "execute_result",
          "data": {
            "text/plain": [
              "(810, 28)"
            ]
          },
          "metadata": {
            "tags": []
          },
          "execution_count": 18
        }
      ]
    },
    {
      "cell_type": "markdown",
      "metadata": {
        "id": "kIJSHzDWCIrH"
      },
      "source": [
        "# Creation de dataset adaptée à la biblio tensorflow"
      ]
    },
    {
      "cell_type": "code",
      "metadata": {
        "id": "o-3gkkcVCIrK"
      },
      "source": [
        "def prepare_dataset(X,y,batch_size):\n",
        "    dataset = tf.data.Dataset.from_tensor_slices((X.values, y.values))\n",
        "    dataset = dataset.shuffle(len(X)).batch(batch_size)\n",
        "    return dataset\n",
        "\n"
      ],
      "execution_count": 19,
      "outputs": []
    },
    {
      "cell_type": "code",
      "metadata": {
        "id": "FRjx7KNiCIrM"
      },
      "source": [
        "batch_size = 64\n",
        "dataset_train = prepare_dataset(X_train,y_train,batch_size)\n",
        "dataset_val = prepare_dataset(X_val,y_val,batch_size)\n",
        "dataset_test = prepare_dataset(X_test,y_test,batch_size)"
      ],
      "execution_count": 20,
      "outputs": []
    },
    {
      "cell_type": "code",
      "metadata": {
        "colab": {
          "base_uri": "https://localhost:8080/"
        },
        "id": "Grl1R-z9CIrO",
        "outputId": "20d29787-22dc-4da6-854d-9dfb5241fd6f"
      },
      "source": [
        "dataset_train"
      ],
      "execution_count": 21,
      "outputs": [
        {
          "output_type": "execute_result",
          "data": {
            "text/plain": [
              "<BatchDataset shapes: ((None, 28), (None,)), types: (tf.float64, tf.int64)>"
            ]
          },
          "metadata": {
            "tags": []
          },
          "execution_count": 21
        }
      ]
    },
    {
      "cell_type": "markdown",
      "metadata": {
        "id": "wEX9jHfpCIrR"
      },
      "source": [
        "# Creation du modèle \"ANN\""
      ]
    },
    {
      "cell_type": "markdown",
      "metadata": {
        "id": "1LmueeyqQhDI"
      },
      "source": [
        "Puisqu'on a un problème de classification, le modèle le plusadapté sera ANN parceque RNN pour faire du time series et CNN pour faire computer vision"
      ]
    },
    {
      "cell_type": "code",
      "metadata": {
        "id": "uRs-VgkiCIrT"
      },
      "source": [
        "\n",
        "def create_model(input_size,num_layers,units,activation,optimizer):\n",
        "    model = tf.keras.Sequential()\n",
        "    model.add(tf.keras.layers.InputLayer(input_shape=input_size))\n",
        "    for i in range(num_layers):\n",
        "      model.add(tf.keras.layers.Dense(units[i], activation=activation))\n",
        "              \n",
        "    model.add(tf.keras.layers.Dense(10, activation='softmax'))\n",
        "\n",
        "\n",
        "    model.compile(\n",
        "        optimizer=optimizer,\n",
        "        loss=tf.keras.losses.SparseCategoricalCrossentropy(from_logits=True),\n",
        "        metrics=['accuracy']\n",
        "    )\n",
        "    return model\n"
      ],
      "execution_count": 22,
      "outputs": []
    },
    {
      "cell_type": "markdown",
      "metadata": {
        "id": "NaOKfm2zCIrV"
      },
      "source": [
        "# Sauvegarde du modèle en continue"
      ]
    },
    {
      "cell_type": "code",
      "metadata": {
        "id": "3bd9DoFdCIrW"
      },
      "source": [
        "def sauvegarde(path):\n",
        "  pathc = path\n",
        "  model_checkpoint_callback = tf.keras.callbacks.ModelCheckpoint(\n",
        "    filepath=pathc,\n",
        "    save_weights_only=True,\n",
        "    monitor='val_accuracy',\n",
        "    mode='max',\n",
        "    save_best_only=True)\n",
        "  return model_checkpoint_callback\n"
      ],
      "execution_count": 24,
      "outputs": []
    },
    {
      "cell_type": "markdown",
      "metadata": {
        "id": "wlVQvddBCIrf"
      },
      "source": [
        "# hypertunning des paramètres"
      ]
    },
    {
      "cell_type": "markdown",
      "metadata": {
        "id": "yTaN3yd9CIrg"
      },
      "source": [
        "Dans cette partie on étudiera l'influence des différents hyperparamètres du model sur l'accuracy d'entraînement, de validation et de test.\n",
        "Les paramètres qui seront testés sont (dans l'ordre précisé) : \n",
        "\n",
        "- nombre de couches cachées\n",
        "- nombre de cellules par couche cachée\n",
        "- type de fonction d’activation\n",
        "- type de l'optimizer\n",
        "- taille du batch\n",
        "- nombre du epoch"
      ]
    },
    {
      "cell_type": "markdown",
      "metadata": {
        "id": "tkvnF23-bbM9"
      },
      "source": [
        "# Fonctions d'affichage des résultats"
      ]
    },
    {
      "cell_type": "code",
      "metadata": {
        "id": "J49pMP8ebZqu"
      },
      "source": [
        "def afficher(data,var, title):\n",
        "    plt.rcParams['figure.figsize'] = [20, 10]\n",
        "    fig, (ax1, ax2, ax3) = plt.subplots(1, 3)\n",
        "    fig.suptitle(title)\n",
        "    ax1.plot(data[var], data[\"training_acc\"])\n",
        "    ax2.plot(data[var], data[\"val_acc\"])\n",
        "    ax3.plot(data[var], data[\"test_acc\"])\n",
        "    ax1.title.set_text('Training accuracy')\n",
        "    ax2.title.set_text('validation accuracy')\n",
        "    ax3.title.set_text('test accuracy')"
      ],
      "execution_count": 27,
      "outputs": []
    },
    {
      "cell_type": "code",
      "metadata": {
        "id": "hKBsHNS6GFpr"
      },
      "source": [
        "def afficher_1(data,var , title):\n",
        "  #plt.figure(figsize=(14, 7))\n",
        "  Labels=data[var]\n",
        "  y_pos=np.arange(len(Labels))\n",
        "  plt.bar(y_pos,data[\"training_acc\"],width=0.2, color = '#2B6A99' , label='Training accuracy')\n",
        "  plt.bar(y_pos+0.2,data[\"val_acc\"], width=0.2,color = '#6488AE',label = 'validation accuracy')\n",
        "  plt.bar(y_pos+0.4,data[\"test_acc\"], width=0.2,color = '#C0CBD8',label = 'test accuracy')\n",
        "  plt.xticks(y_pos+0.2, Labels)\n",
        "  plt.legend(('Training accuracy','validation accuracy', 'test accuracy'))\n",
        "  plt.ylabel('accuracy')\n",
        "  plt.xlabel('optimizer')\n",
        "  plt.title(title)"
      ],
      "execution_count": 28,
      "outputs": []
    },
    {
      "cell_type": "markdown",
      "metadata": {
        "id": "nLqC6EDCCIrj"
      },
      "source": [
        "# Nombre de couches cachées"
      ]
    },
    {
      "cell_type": "code",
      "metadata": {
        "colab": {
          "base_uri": "https://localhost:8080/"
        },
        "id": "Wz0xVm4CCIrk",
        "outputId": "1283a5e1-e758-4340-9d42-4a7819ccfd02"
      },
      "source": [
        "num_hidden_layers = [1,2,3,4,5,6,7,8]\n",
        "units = [[300],[300,272],[300,272,244],[300,272,244,216],[300,272,244,216,188],[300,272,244,216,188,160],\n",
        "         [300,272,244,216,188,160,132],[300,272,244,216,188,160,132,104]]\n",
        "train_accuracy = []\n",
        "val_accuracy = []\n",
        "test_accuracy = []\n",
        "\n",
        "for i in range(8):\n",
        "    checkpoint_filepath = 'tmp/checkpoint_layers_'\n",
        "    checkpoint_filepath += str(i)\n",
        "\n",
        "    model = create_model(28,num_hidden_layers[i],units[i],\"relu\",adam_optimizer)\n",
        "    h = model.fit(\n",
        "        dataset_train,\n",
        "        epochs=60,\n",
        "        validation_data=dataset_val,\n",
        "        verbose=0,\n",
        "        callbacks=[sauvegarde(checkpoint_filepath)] \n",
        "    )\n",
        "    train_accuracy.append(max(h.history[\"accuracy\"]))\n",
        "    val_accuracy.append(max(h.history[\"val_accuracy\"]))\n",
        "    model.load_weights(checkpoint_filepath)\n",
        "    res_test = model.evaluate(dataset_test, verbose=1, use_multiprocessing=True, return_dict=True)\n",
        "    test_accuracy.append(res_test[\"accuracy\"])\n",
        "\n",
        "df_num_layers = pd.DataFrame({\"num_layers\":num_hidden_layers,\n",
        "                             \"training_acc\": train_accuracy,\n",
        "                             \"val_acc\": val_accuracy,\n",
        "                             \"test_acc\":test_accuracy})\n",
        "\n",
        "print(df_num_layers)\n",
        "    \n",
        "    "
      ],
      "execution_count": 34,
      "outputs": [
        {
          "output_type": "stream",
          "text": [
            "2/2 [==============================] - 0s 8ms/step - loss: 1.0922 - accuracy: 0.5800\n",
            "2/2 [==============================] - 0s 7ms/step - loss: 0.9121 - accuracy: 0.6800\n",
            "2/2 [==============================] - 0s 6ms/step - loss: 0.8536 - accuracy: 0.7300\n",
            "2/2 [==============================] - 0s 6ms/step - loss: 0.9525 - accuracy: 0.6700\n",
            "2/2 [==============================] - 0s 9ms/step - loss: 1.1484 - accuracy: 0.6000\n",
            "2/2 [==============================] - 0s 8ms/step - loss: 1.2354 - accuracy: 0.6200\n",
            "2/2 [==============================] - 0s 8ms/step - loss: 1.2122 - accuracy: 0.6300\n",
            "2/2 [==============================] - 0s 6ms/step - loss: 1.2499 - accuracy: 0.5900\n",
            "   num_layers  training_acc   val_acc  test_acc\n",
            "0           1      0.679012  0.611111      0.58\n",
            "1           2      0.797531  0.655556      0.68\n",
            "2           3      0.888889  0.711111      0.73\n",
            "3           4      0.919753  0.677778      0.67\n",
            "4           5      0.862963  0.655556      0.60\n",
            "5           6      0.832099  0.633333      0.62\n",
            "6           7      0.802469  0.622222      0.63\n",
            "7           8      0.650617  0.577778      0.59\n"
          ],
          "name": "stdout"
        }
      ]
    },
    {
      "cell_type": "code",
      "metadata": {
        "colab": {
          "base_uri": "https://localhost:8080/",
          "height": 80
        },
        "id": "JvbAJjVibKvC",
        "outputId": "09dfe7df-5540-47cb-95e2-272525e0a7a2"
      },
      "source": [
        "mod1 =df_num_layers[(df_num_layers.test_acc==df_num_layers.test_acc.max())]\n",
        "mod1"
      ],
      "execution_count": 35,
      "outputs": [
        {
          "output_type": "execute_result",
          "data": {
            "text/html": [
              "<div>\n",
              "<style scoped>\n",
              "    .dataframe tbody tr th:only-of-type {\n",
              "        vertical-align: middle;\n",
              "    }\n",
              "\n",
              "    .dataframe tbody tr th {\n",
              "        vertical-align: top;\n",
              "    }\n",
              "\n",
              "    .dataframe thead th {\n",
              "        text-align: right;\n",
              "    }\n",
              "</style>\n",
              "<table border=\"1\" class=\"dataframe\">\n",
              "  <thead>\n",
              "    <tr style=\"text-align: right;\">\n",
              "      <th></th>\n",
              "      <th>num_layers</th>\n",
              "      <th>training_acc</th>\n",
              "      <th>val_acc</th>\n",
              "      <th>test_acc</th>\n",
              "    </tr>\n",
              "  </thead>\n",
              "  <tbody>\n",
              "    <tr>\n",
              "      <th>2</th>\n",
              "      <td>3</td>\n",
              "      <td>0.888889</td>\n",
              "      <td>0.711111</td>\n",
              "      <td>0.73</td>\n",
              "    </tr>\n",
              "  </tbody>\n",
              "</table>\n",
              "</div>"
            ],
            "text/plain": [
              "   num_layers  training_acc   val_acc  test_acc\n",
              "2           3      0.888889  0.711111      0.73"
            ]
          },
          "metadata": {
            "tags": []
          },
          "execution_count": 35
        }
      ]
    },
    {
      "cell_type": "markdown",
      "metadata": {
        "id": "oW-8VIPNCIrp"
      },
      "source": [
        " \n",
        "\n",
        "On remarque que l'utilisation de **trois hidden layer** est suffisant, car ceci donne des résultats supérieurs sur la validation et test"
      ]
    },
    {
      "cell_type": "code",
      "metadata": {
        "colab": {
          "base_uri": "https://localhost:8080/",
          "height": 543
        },
        "id": "GEXdtTdACIrr",
        "outputId": "5d123db3-7423-4648-c26d-e19a7030706c"
      },
      "source": [
        "#fonction du plot\n",
        "afficher(df_num_layers,\"num_layers\",\"Evolution de l'accuracy avec le nombre de  hidden layers\")\n"
      ],
      "execution_count": 31,
      "outputs": [
        {
          "output_type": "display_data",
          "data": {
            "image/png": "[encoded data removed]",
            "text/plain": [
              "<Figure size 1440x720 with 3 Axes>"
            ]
          },
          "metadata": {
            "tags": [],
            "needs_background": "light"
          }
        }
      ]
    },
    {
      "cell_type": "markdown",
      "metadata": {
        "id": "NsmU7628CIrt"
      },
      "source": [
        "# Nombre de cellules "
      ]
    },
    {
      "cell_type": "code",
      "metadata": {
        "colab": {
          "base_uri": "https://localhost:8080/"
        },
        "id": "XUQcC3brCIrz",
        "outputId": "0421a5f1-796a-4477-fd24-b73d5617a5ae"
      },
      "source": [
        "#units = [[int(i*2/3+10)] for i in range(784,1568,100)]\n",
        "units = [[524,496,468],[468,440,412],[412,384,356],[356,328,300],[300,272,244],[244,216,188],[188,160,132],\n",
        "         [132,104,72],[72,48,20]]\n",
        "train_accuracy = []\n",
        "val_accuracy = []\n",
        "test_accuracy = []\n",
        "\n",
        "for i in range(len(units)):\n",
        "  checkpoint_filepath = 'tmp/checkpoint_units_'\n",
        "  checkpoint_filepath += str(units[i][0])\n",
        "  model = create_model(28,3,units[i],\"relu\",adam_optimizer)\n",
        "  h = model.fit(\n",
        "        dataset_train,\n",
        "        epochs=60,\n",
        "        validation_data=dataset_val,\n",
        "        verbose=0,\n",
        "        callbacks=[sauvegarde(checkpoint_filepath)] \n",
        "    )\n",
        "  train_accuracy.append(max(h.history[\"accuracy\"]))\n",
        "  val_accuracy.append(max(h.history[\"val_accuracy\"]))\n",
        "  model.load_weights(checkpoint_filepath)\n",
        "  res_test = model.evaluate(dataset_test, verbose=1, use_multiprocessing=True, return_dict=True)\n",
        "  test_accuracy.append(res_test[\"accuracy\"])\n",
        "\n",
        "df_num_units = pd.DataFrame({\"num_units\":[x[0] for x in units],\n",
        "                             \"training_acc\": train_accuracy,\n",
        "                             \"val_acc\": val_accuracy,\n",
        "                             \"test_acc\":test_accuracy})\n",
        "\n",
        "print(df_num_units)\n"
      ],
      "execution_count": 40,
      "outputs": [
        {
          "output_type": "stream",
          "text": [
            "2/2 [==============================] - 0s 11ms/step - loss: 0.8723 - accuracy: 0.7100\n",
            "2/2 [==============================] - 0s 6ms/step - loss: 1.0149 - accuracy: 0.6400\n",
            "2/2 [==============================] - 0s 9ms/step - loss: 0.9946 - accuracy: 0.6800\n",
            "2/2 [==============================] - 0s 7ms/step - loss: 0.9450 - accuracy: 0.6900\n",
            "2/2 [==============================] - 0s 5ms/step - loss: 0.9579 - accuracy: 0.6800\n",
            "2/2 [==============================] - 0s 6ms/step - loss: 0.9097 - accuracy: 0.7300\n",
            "2/2 [==============================] - 0s 8ms/step - loss: 0.8910 - accuracy: 0.6900\n",
            "2/2 [==============================] - 0s 5ms/step - loss: 0.8950 - accuracy: 0.7000\n",
            "2/2 [==============================] - 0s 9ms/step - loss: 1.0928 - accuracy: 0.5700\n",
            "   num_units  training_acc   val_acc  test_acc\n",
            "0        524      0.923457  0.688889      0.71\n",
            "1        468      0.914815  0.666667      0.64\n",
            "2        412      0.919753  0.688889      0.68\n",
            "3        356      0.903704  0.677778      0.69\n",
            "4        300      0.872840  0.688889      0.68\n",
            "5        244      0.845679  0.666667      0.73\n",
            "6        188      0.819753  0.700000      0.69\n",
            "7        132      0.761728  0.655556      0.70\n",
            "8         72      0.670370  0.588889      0.57\n"
          ],
          "name": "stdout"
        }
      ]
    },
    {
      "cell_type": "code",
      "metadata": {
        "id": "cJtY0l8bCIr_"
      },
      "source": [
        "afficher(df_num_units,\"num_units\",\"Evolution de l'accuracy avec le nombre de neurones\")"
      ],
      "execution_count": null,
      "outputs": []
    },
    {
      "cell_type": "markdown",
      "metadata": {
        "id": "jtlD0NI9CIsE"
      },
      "source": [
        "On prend le nombre des units égal à **[244,216,188]** car c'est lui qui donne la meilleur valeur de l'accuracy de test."
      ]
    },
    {
      "cell_type": "markdown",
      "metadata": {
        "id": "v5P9R0VHCIsF"
      },
      "source": [
        "# Type de la fonction d'activation"
      ]
    },
    {
      "cell_type": "code",
      "metadata": {
        "colab": {
          "base_uri": "https://localhost:8080/"
        },
        "id": "UefYjlEPCIsH",
        "outputId": "1a9a2591-e555-4fb0-b8be-20007a989456"
      },
      "source": [
        "activation = [\"relu\",\"sigmoid\",\"tanh\"]\n",
        "train_accuracy = []\n",
        "val_accuracy = []\n",
        "test_accuracy = []\n",
        "for x in activation:\n",
        "    checkpoint_filepath = 'tmp/checkpoint_activation_'\n",
        "    checkpoint_filepath += x\n",
        "\n",
        "    model = create_model(28,3,[244,216,188],x,adam_optimizer)\n",
        "    h = model.fit(\n",
        "        dataset_train,\n",
        "        epochs=60,\n",
        "        validation_data=dataset_val,\n",
        "        verbose=0,\n",
        "        callbacks=[sauvegarde(checkpoint_filepath)] \n",
        "    )\n",
        "    train_accuracy.append(max(h.history[\"accuracy\"]))\n",
        "    val_accuracy.append(max(h.history[\"val_accuracy\"]))\n",
        "    model.load_weights(checkpoint_filepath)\n",
        "    res_test = model.evaluate(dataset_test, verbose=1, use_multiprocessing=True, return_dict=True)\n",
        "    test_accuracy.append(res_test[\"accuracy\"])\n",
        "\n",
        "df_activation = pd.DataFrame({\"activation\": activation,\n",
        "                             \"training_acc\": train_accuracy,\n",
        "                             \"val_acc\": val_accuracy,\n",
        "                             \"test_acc\":test_accuracy})\n",
        "\n",
        "print(df_activation)\n"
      ],
      "execution_count": 41,
      "outputs": [
        {
          "output_type": "stream",
          "text": [
            "2/2 [==============================] - 0s 5ms/step - loss: 0.8783 - accuracy: 0.7000\n",
            "2/2 [==============================] - 0s 8ms/step - loss: 1.4531 - accuracy: 0.4600\n",
            "2/2 [==============================] - 0s 9ms/step - loss: 1.0083 - accuracy: 0.6600\n",
            "  activation  training_acc   val_acc  test_acc\n",
            "0       relu      0.864198  0.688889      0.70\n",
            "1    sigmoid      0.491358  0.444444      0.46\n",
            "2       tanh      0.865432  0.700000      0.66\n"
          ],
          "name": "stdout"
        }
      ]
    },
    {
      "cell_type": "markdown",
      "metadata": {
        "id": "1SkdJAP2CIsL"
      },
      "source": [
        "La fonction d'activation **ReLU** est la meilleur dans notre cas pour les hidden layers"
      ]
    },
    {
      "cell_type": "markdown",
      "metadata": {
        "id": "DV3Tod70CIsP"
      },
      "source": [
        "#  Type de l'optimizer"
      ]
    },
    {
      "cell_type": "code",
      "metadata": {
        "colab": {
          "base_uri": "https://localhost:8080/"
        },
        "id": "nOoG15REvPFx",
        "outputId": "d36ecf70-8242-4f89-baa5-32b593cc62f3"
      },
      "source": [
        "optimizers = ['adam', 'adamax', 'rmsprop','sgd']\n",
        "\n",
        "train_accuracy = []\n",
        "val_accuracy = []\n",
        "test_accuracy = []\n",
        "for x in optimizers:\n",
        "    checkpoint_filepath = 'tmp/checkpoint_optimizer_'\n",
        "    checkpoint_filepath += str(x)\n",
        "    \n",
        "    model = create_model(28,3,[244,216,188],\"relu\",x)\n",
        "    h = model.fit(\n",
        "        dataset_train,\n",
        "        epochs=100,\n",
        "        validation_data=dataset_val,\n",
        "        verbose=0,\n",
        "        callbacks=[sauvegarde(checkpoint_filepath)] \n",
        "    )\n",
        "    train_accuracy.append(max(h.history[\"accuracy\"]))\n",
        "    val_accuracy.append(max(h.history[\"val_accuracy\"]))\n",
        "    model.load_weights(checkpoint_filepath)\n",
        "    res_test = model.evaluate(dataset_test, verbose=1, use_multiprocessing=True, return_dict=True)\n",
        "    test_accuracy.append(res_test[\"accuracy\"])\n",
        "\n",
        "df_optimizers = pd.DataFrame({\"optimizers\": optimizers,\n",
        "                             \"training_acc\": train_accuracy,\n",
        "                             \"val_acc\": val_accuracy,\n",
        "                             \"test_acc\":test_accuracy})\n",
        "\n",
        "print(df_optimizers)"
      ],
      "execution_count": 45,
      "outputs": [
        {
          "output_type": "stream",
          "text": [
            "2/2 [==============================] - 0s 8ms/step - loss: 0.9188 - accuracy: 0.7000\n",
            "2/2 [==============================] - 0s 4ms/step - loss: 0.9920 - accuracy: 0.6600\n",
            "2/2 [==============================] - 0s 5ms/step - loss: 0.9676 - accuracy: 0.7000\n",
            "2/2 [==============================] - 0s 4ms/step - loss: 1.5844 - accuracy: 0.4100\n",
            "  optimizers  training_acc   val_acc  test_acc\n",
            "0       adam      0.825926  0.700000      0.70\n",
            "1     adamax      0.725926  0.655556      0.66\n",
            "2    rmsprop      0.822222  0.688889      0.70\n",
            "3        sgd      0.417284  0.400000      0.41\n"
          ],
          "name": "stdout"
        }
      ]
    },
    {
      "cell_type": "code",
      "metadata": {
        "colab": {
          "base_uri": "https://localhost:8080/",
          "height": 505
        },
        "id": "BCf8z9DPwlVA",
        "outputId": "ac4f6a70-8a3d-41ba-8532-0df3778bfcd2"
      },
      "source": [
        "afficher_1(df_optimizers,\"optimizers\",\"Evolution de l'accuracy avec l'optimizers\")"
      ],
      "execution_count": 89,
      "outputs": [
        {
          "output_type": "display_data",
          "data": {
            "image/png": "[encoded data removed]",
            "text/plain": [
              "<Figure size 1440x720 with 1 Axes>"
            ]
          },
          "metadata": {
            "tags": [],
            "needs_background": "light"
          }
        }
      ]
    },
    {
      "cell_type": "markdown",
      "metadata": {
        "id": "WS-orzmlCIsR"
      },
      "source": [
        "On utilisera ADAM comme optimizer vu que il donne des résultats supérieurs sur le train, validation et test"
      ]
    },
    {
      "cell_type": "markdown",
      "metadata": {
        "id": "ZoSaXtTYUWWs"
      },
      "source": [
        "# Le choix du learning rate\n"
      ]
    },
    {
      "cell_type": "code",
      "metadata": {
        "colab": {
          "base_uri": "https://localhost:8080/"
        },
        "id": "cDEutf3mCIsS",
        "outputId": "b7981c2c-e026-4632-9748-f25ea948ac79"
      },
      "source": [
        "learning_rates = [0.001,0.01,0.1,1]\n",
        "\n",
        "train_accuracy = []\n",
        "val_accuracy = []\n",
        "test_accuracy = []\n",
        "for x in learning_rates:\n",
        "    checkpoint_filepath = 'tmp/checkpoint_optimizer_'\n",
        "    checkpoint_filepath += str(x)\n",
        "\n",
        "    optimizer = tf.keras.optimizers.Adam(learning_rate=x)\n",
        "    \n",
        "    model = create_model(28,3,[244,216,188],\"relu\",optimizer)\n",
        "    h = model.fit(\n",
        "        dataset_train,\n",
        "        epochs=100,\n",
        "        validation_data=dataset_val,\n",
        "        verbose=0,\n",
        "        callbacks=[sauvegarde(checkpoint_filepath)] \n",
        "    )\n",
        "    train_accuracy.append(max(h.history[\"accuracy\"]))\n",
        "    val_accuracy.append(max(h.history[\"val_accuracy\"]))\n",
        "    model.load_weights(checkpoint_filepath)\n",
        "    res_test = model.evaluate(dataset_test, verbose=1, use_multiprocessing=True, return_dict=True)\n",
        "    test_accuracy.append(res_test[\"accuracy\"])\n",
        "\n",
        "df_learning_rate = pd.DataFrame({\"learning_rate\": learning_rates,\n",
        "                             \"training_acc\": train_accuracy,\n",
        "                             \"val_acc\": val_accuracy,\n",
        "                             \"test_acc\":test_accuracy})\n",
        "\n",
        "print(df_learning_rate)\n"
      ],
      "execution_count": 47,
      "outputs": [
        {
          "output_type": "stream",
          "text": [
            "2/2 [==============================] - 0s 8ms/step - loss: 1.0280 - accuracy: 0.6700\n",
            "2/2 [==============================] - 0s 8ms/step - loss: 1.0368 - accuracy: 0.6500\n",
            "2/2 [==============================] - 0s 7ms/step - loss: 2.3662 - accuracy: 0.1200\n",
            "2/2 [==============================] - 0s 6ms/step - loss: 315.8597 - accuracy: 0.1800\n",
            "   learning_rate  training_acc   val_acc  test_acc\n",
            "0          0.001      0.851852  0.700000      0.67\n",
            "1          0.010      0.949383  0.644444      0.65\n",
            "2          0.100      0.119753  0.144444      0.12\n",
            "3          1.000      0.119753  0.222222      0.18\n"
          ],
          "name": "stdout"
        }
      ]
    },
    {
      "cell_type": "code",
      "metadata": {
        "id": "0NsXJqg9CIsV"
      },
      "source": [
        "afficher(df_learning_rate,\"learning_rate\",\"Evolution de l'accuracy avec le learning rate\")"
      ],
      "execution_count": null,
      "outputs": []
    },
    {
      "cell_type": "markdown",
      "metadata": {
        "id": "0y-eyvoYCIsd"
      },
      "source": [
        "On choisit le \"learning rate\" le plus petit **0.001**"
      ]
    },
    {
      "cell_type": "markdown",
      "metadata": {
        "id": "rz38u6sVCIse"
      },
      "source": [
        "# Taille du batch"
      ]
    },
    {
      "cell_type": "code",
      "metadata": {
        "colab": {
          "base_uri": "https://localhost:8080/"
        },
        "id": "zfTC64TlCIsf",
        "outputId": "e8676a62-7729-4bc6-b279-14c9949bb245"
      },
      "source": [
        "batch_sizes = [28,56,84,112,140,168,196,224]\n",
        "train_accuracy = []\n",
        "val_accuracy = []\n",
        "test_accuracy = []\n",
        "for x in batch_sizes:\n",
        "    checkpoint_filepath = 'tmp/checkpoint_batch_'\n",
        "    checkpoint_filepath += str(x)\n",
        "\n",
        "    model = create_model(28,3,[244,216,188],\"relu\",tf.keras.optimizers.Adam(learning_rate=0.001))\n",
        "    dataset_train = prepare_dataset(X_train,y_train,x)\n",
        "    dataset_val = prepare_dataset(X_val,y_val,x)\n",
        "    dataset_test = prepare_dataset(X_test,y_test,x)\n",
        "    h = model.fit(\n",
        "        dataset_train,\n",
        "        epochs=100,\n",
        "        validation_data=dataset_val,\n",
        "        verbose=0,\n",
        "        callbacks=[sauvegarde(checkpoint_filepath)] \n",
        "    )\n",
        "    train_accuracy.append(max(h.history[\"accuracy\"]))\n",
        "    val_accuracy.append(max(h.history[\"val_accuracy\"]))\n",
        "    model.load_weights(checkpoint_filepath)\n",
        "    res_test = model.evaluate(dataset_test, verbose=1, use_multiprocessing=True, return_dict=True)\n",
        "    test_accuracy.append(res_test[\"accuracy\"])\n",
        "\n",
        "df_batch = pd.DataFrame({\"batch_size\": batch_sizes,\n",
        "                             \"training_acc\": train_accuracy,\n",
        "                             \"val_acc\": val_accuracy,\n",
        "                             \"test_acc\":test_accuracy})\n",
        "\n",
        "print(df_batch)\n"
      ],
      "execution_count": 48,
      "outputs": [
        {
          "output_type": "stream",
          "text": [
            "4/4 [==============================] - 0s 4ms/step - loss: 1.3190 - accuracy: 0.6700\n",
            "2/2 [==============================] - 0s 5ms/step - loss: 0.9708 - accuracy: 0.6900\n",
            "2/2 [==============================] - 0s 11ms/step - loss: 0.9680 - accuracy: 0.6500\n",
            "1/1 [==============================] - 0s 13ms/step - loss: 0.9636 - accuracy: 0.6700\n",
            "1/1 [==============================] - 0s 13ms/step - loss: 0.9753 - accuracy: 0.6500\n",
            "1/1 [==============================] - 0s 13ms/step - loss: 0.9394 - accuracy: 0.6900\n",
            "1/1 [==============================] - 0s 14ms/step - loss: 1.1352 - accuracy: 0.6200\n",
            "1/1 [==============================] - 0s 15ms/step - loss: 0.9500 - accuracy: 0.6600\n",
            "   batch_size  training_acc   val_acc  test_acc\n",
            "0          28      0.922222  0.700000      0.67\n",
            "1          56      0.849383  0.700000      0.69\n",
            "2          84      0.824691  0.666667      0.65\n",
            "3         112      0.786420  0.711111      0.67\n",
            "4         140      0.775309  0.677778      0.65\n",
            "5         168      0.758025  0.655556      0.69\n",
            "6         196      0.733333  0.633333      0.62\n",
            "7         224      0.746914  0.655556      0.66\n"
          ],
          "name": "stdout"
        }
      ]
    },
    {
      "cell_type": "code",
      "metadata": {
        "colab": {
          "base_uri": "https://localhost:8080/",
          "height": 539
        },
        "id": "AT2pdOzuCIsh",
        "outputId": "be23013e-5d5b-4764-a5ec-cfb5e6147909"
      },
      "source": [
        "afficher(df_batch,\"batch_size\",\"Evolution de l'accuracy avec la taille du batch\")"
      ],
      "execution_count": 88,
      "outputs": [
        {
          "output_type": "display_data",
          "data": {
            "image/png": "[encoded data removed]",
            "text/plain": [
              "<Figure size 1440x720 with 3 Axes>"
            ]
          },
          "metadata": {
            "tags": [],
            "needs_background": "light"
          }
        }
      ]
    },
    {
      "cell_type": "markdown",
      "metadata": {
        "id": "-M6gJtlzCIsk"
      },
      "source": [
        "On choisit un batch size égal à **56**"
      ]
    },
    {
      "cell_type": "markdown",
      "metadata": {
        "id": "3DdmLn_PCZdC"
      },
      "source": [
        ""
      ]
    },
    {
      "cell_type": "code",
      "metadata": {
        "colab": {
          "base_uri": "https://localhost:8080/"
        },
        "id": "a29UnB10CX_e",
        "outputId": "e9680b42-f014-4984-9d6c-0cdfca770f8d"
      },
      "source": [
        "epo = [50,100,150,200,250,300,350,400,450,500]\n",
        "\n",
        "train_accuracy = []\n",
        "val_accuracy = []\n",
        "test_accuracy = []\n",
        "for x in epo:\n",
        "    checkpoint_filepath = 'tmp/checkpoint_epo_'\n",
        "    checkpoint_filepath += str(x)\n",
        "    \n",
        "    model = create_model(28,3,[244,216,188],\"relu\",tf.keras.optimizers.Adam(learning_rate=0.001))\n",
        "    h = model.fit(\n",
        "        dataset_train,\n",
        "        epochs=x,\n",
        "        validation_data=dataset_val,\n",
        "        verbose=0,\n",
        "        callbacks=[sauvegarde(checkpoint_filepath)] \n",
        "    )\n",
        "    train_accuracy.append(max(h.history[\"accuracy\"]))\n",
        "    val_accuracy.append(max(h.history[\"val_accuracy\"]))\n",
        "    model.load_weights(checkpoint_filepath)\n",
        "    res_test = model.evaluate(dataset_test, verbose=1, use_multiprocessing=True, return_dict=True)\n",
        "    test_accuracy.append(res_test[\"accuracy\"])\n",
        "\n",
        "df_epoch = pd.DataFrame({\"epochs\": epo,\n",
        "                             \"training_acc\": train_accuracy,\n",
        "                             \"val_acc\": val_accuracy,\n",
        "                             \"test_acc\":test_accuracy})\n",
        "\n",
        "print(df_epoch)\n"
      ],
      "execution_count": 50,
      "outputs": [
        {
          "output_type": "stream",
          "text": [
            "1/1 [==============================] - 0s 18ms/step - loss: 1.1069 - accuracy: 0.5600\n",
            "1/1 [==============================] - 0s 14ms/step - loss: 0.9775 - accuracy: 0.6600\n",
            "1/1 [==============================] - 0s 15ms/step - loss: 0.8958 - accuracy: 0.7200\n",
            "1/1 [==============================] - 0s 14ms/step - loss: 0.9173 - accuracy: 0.6700\n",
            "1/1 [==============================] - 0s 14ms/step - loss: 0.9645 - accuracy: 0.6900\n",
            "1/1 [==============================] - 0s 16ms/step - loss: 0.8904 - accuracy: 0.7300\n",
            "1/1 [==============================] - 0s 13ms/step - loss: 0.9120 - accuracy: 0.7100\n",
            "1/1 [==============================] - 0s 15ms/step - loss: 0.9686 - accuracy: 0.6600\n",
            "1/1 [==============================] - 0s 14ms/step - loss: 1.2540 - accuracy: 0.6900\n",
            "1/1 [==============================] - 0s 15ms/step - loss: 0.9496 - accuracy: 0.7100\n",
            "   epochs  training_acc   val_acc  test_acc\n",
            "0      50      0.665432  0.577778      0.56\n",
            "1     100      0.776543  0.666667      0.66\n",
            "2     150      0.820988  0.700000      0.72\n",
            "3     200      0.855556  0.700000      0.67\n",
            "4     250      0.900000  0.700000      0.69\n",
            "5     300      0.927161  0.722222      0.73\n",
            "6     350      0.969136  0.700000      0.71\n",
            "7     400      0.981481  0.688889      0.66\n",
            "8     450      0.988889  0.711111      0.69\n",
            "9     500      0.979012  0.700000      0.71\n"
          ],
          "name": "stdout"
        }
      ]
    },
    {
      "cell_type": "markdown",
      "metadata": {
        "id": "tg9MtyuWCIsl"
      },
      "source": [
        "# Modèle final "
      ]
    },
    {
      "cell_type": "markdown",
      "metadata": {
        "id": "urokqhw4CIsm"
      },
      "source": [
        "Le modèle final optimal a les caractéristiques suivantes :\n",
        "\n",
        "- Nombre de \"hidden layers\" : **3**\n",
        "\n",
        "- Nombre de cellule dans la couches cachée : **[244,216,188**\n",
        "\n",
        "- Type de la fonction d'activation des couches cachées : **ReLu**\n",
        "\n",
        "- Learning rate de l'ADAM optimizer : **0.001**\n",
        "\n",
        "- taille du batch : **56**\n",
        "\n",
        "- Nombre du epoch : **300**"
      ]
    },
    {
      "cell_type": "markdown",
      "metadata": {
        "id": "G_HhN76kCIso"
      },
      "source": [
        "### Performances de ce modèle (train / validation et test accuracy)"
      ]
    },
    {
      "cell_type": "code",
      "metadata": {
        "id": "Jj258072CIsp",
        "colab": {
          "base_uri": "https://localhost:8080/"
        },
        "outputId": "468800f5-864b-4d0b-f28a-bdc49acf110d"
      },
      "source": [
        "checkpoint_filepath = 'tmp/checkpoint_final_model'\n",
        "\n",
        "model_f = create_model(28,3,[244,216,188],\"relu\",tf.keras.optimizers.Adam(learning_rate=0.001))\n",
        "dataset_train = prepare_dataset(X_train,y_train,56)\n",
        "dataset_val = prepare_dataset(X_val,y_val,56)\n",
        "dataset_test = prepare_dataset(X_test,y_test,56)\n",
        "h = model_f.fit(\n",
        "        dataset_train,\n",
        "        epochs=300,\n",
        "        validation_data=dataset_val,\n",
        "        verbose=0,\n",
        "        callbacks=[sauvegarde(checkpoint_filepath)] \n",
        "    )\n",
        "\n",
        "model_f.load_weights(checkpoint_filepath)\n",
        "res_test = model_f.evaluate(dataset_test, verbose=1, use_multiprocessing=True, return_dict=True)\n",
        "res_train = model_f.evaluate(dataset_train, verbose=0, use_multiprocessing=True, return_dict=True)\n",
        "res_val = model_f.evaluate(dataset_val, verbose=0, use_multiprocessing=True, return_dict=True)\n",
        "\n",
        "print(\"Les résultat sur la data d'entrainement sont : \",res_train)\n",
        "print(\"Les résultat sur la data de validation sont : \",res_val)\n",
        "print(\"Les résultat sur la data de test sont : \",res_test)"
      ],
      "execution_count": 55,
      "outputs": [
        {
          "output_type": "stream",
          "text": [
            "2/2 [==============================] - 0s 5ms/step - loss: 0.9824 - accuracy: 0.7100\n",
            "Les résultat sur la data d'entrainement sont :  {'loss': 0.532246470451355, 'accuracy': 0.8061728477478027}\n",
            "Les résultat sur la data de validation sont :  {'loss': 1.1689393520355225, 'accuracy': 0.6888889074325562}\n",
            "Les résultat sur la data de test sont :  {'loss': 0.9824145436286926, 'accuracy': 0.7099999785423279}\n"
          ],
          "name": "stdout"
        }
      ]
    },
    {
      "cell_type": "markdown",
      "metadata": {
        "id": "a7JjO43gVolm"
      },
      "source": [
        "Conclusion: 70% de l'accuarcy sur les donnees du test"
      ]
    },
    {
      "cell_type": "markdown",
      "metadata": {
        "id": "KGxYp0NOGJkJ"
      },
      "source": [
        "**Prediction**"
      ]
    },
    {
      "cell_type": "code",
      "metadata": {
        "colab": {
          "base_uri": "https://localhost:8080/",
          "height": 439
        },
        "id": "s6D-wDGiLjfO",
        "outputId": "9b16282c-65ff-459a-f439-afaceaaf4073"
      },
      "source": [
        "X_test.reset_index(drop=True, inplace=True)\n",
        "X_test"
      ],
      "execution_count": 77,
      "outputs": [
        {
          "output_type": "execute_result",
          "data": {
            "text/html": [
              "<div>\n",
              "<style scoped>\n",
              "    .dataframe tbody tr th:only-of-type {\n",
              "        vertical-align: middle;\n",
              "    }\n",
              "\n",
              "    .dataframe tbody tr th {\n",
              "        vertical-align: top;\n",
              "    }\n",
              "\n",
              "    .dataframe thead th {\n",
              "        text-align: right;\n",
              "    }\n",
              "</style>\n",
              "<table border=\"1\" class=\"dataframe\">\n",
              "  <thead>\n",
              "    <tr style=\"text-align: right;\">\n",
              "      <th></th>\n",
              "      <th>tempo</th>\n",
              "      <th>beats</th>\n",
              "      <th>chroma_stft</th>\n",
              "      <th>rmse</th>\n",
              "      <th>spectral_centroid</th>\n",
              "      <th>spectral_bandwidth</th>\n",
              "      <th>rolloff</th>\n",
              "      <th>zero_crossing_rate</th>\n",
              "      <th>mfcc1</th>\n",
              "      <th>mfcc2</th>\n",
              "      <th>mfcc3</th>\n",
              "      <th>mfcc4</th>\n",
              "      <th>mfcc5</th>\n",
              "      <th>mfcc6</th>\n",
              "      <th>mfcc7</th>\n",
              "      <th>mfcc8</th>\n",
              "      <th>mfcc9</th>\n",
              "      <th>mfcc10</th>\n",
              "      <th>mfcc11</th>\n",
              "      <th>mfcc12</th>\n",
              "      <th>mfcc13</th>\n",
              "      <th>mfcc14</th>\n",
              "      <th>mfcc15</th>\n",
              "      <th>mfcc16</th>\n",
              "      <th>mfcc17</th>\n",
              "      <th>mfcc18</th>\n",
              "      <th>mfcc19</th>\n",
              "      <th>mfcc20</th>\n",
              "    </tr>\n",
              "  </thead>\n",
              "  <tbody>\n",
              "    <tr>\n",
              "      <th>0</th>\n",
              "      <td>0.292824</td>\n",
              "      <td>0.282828</td>\n",
              "      <td>0.479320</td>\n",
              "      <td>0.377125</td>\n",
              "      <td>0.489379</td>\n",
              "      <td>0.537839</td>\n",
              "      <td>0.538643</td>\n",
              "      <td>0.455842</td>\n",
              "      <td>0.784470</td>\n",
              "      <td>0.457623</td>\n",
              "      <td>0.475795</td>\n",
              "      <td>0.731900</td>\n",
              "      <td>0.537839</td>\n",
              "      <td>0.652020</td>\n",
              "      <td>0.526677</td>\n",
              "      <td>0.621665</td>\n",
              "      <td>0.237953</td>\n",
              "      <td>0.622330</td>\n",
              "      <td>0.132876</td>\n",
              "      <td>0.654015</td>\n",
              "      <td>0.286196</td>\n",
              "      <td>0.538927</td>\n",
              "      <td>0.121009</td>\n",
              "      <td>0.619945</td>\n",
              "      <td>0.330598</td>\n",
              "      <td>0.563974</td>\n",
              "      <td>0.432337</td>\n",
              "      <td>0.732405</td>\n",
              "    </tr>\n",
              "    <tr>\n",
              "      <th>1</th>\n",
              "      <td>0.207341</td>\n",
              "      <td>0.272727</td>\n",
              "      <td>0.568016</td>\n",
              "      <td>0.474726</td>\n",
              "      <td>0.664927</td>\n",
              "      <td>0.747438</td>\n",
              "      <td>0.704716</td>\n",
              "      <td>0.493964</td>\n",
              "      <td>0.770108</td>\n",
              "      <td>0.273620</td>\n",
              "      <td>0.732959</td>\n",
              "      <td>0.479370</td>\n",
              "      <td>0.582263</td>\n",
              "      <td>0.436882</td>\n",
              "      <td>0.567509</td>\n",
              "      <td>0.396379</td>\n",
              "      <td>0.796346</td>\n",
              "      <td>0.361304</td>\n",
              "      <td>0.586576</td>\n",
              "      <td>0.527692</td>\n",
              "      <td>0.778919</td>\n",
              "      <td>0.410119</td>\n",
              "      <td>0.594019</td>\n",
              "      <td>0.523338</td>\n",
              "      <td>0.456565</td>\n",
              "      <td>0.397420</td>\n",
              "      <td>0.553604</td>\n",
              "      <td>0.486496</td>\n",
              "    </tr>\n",
              "    <tr>\n",
              "      <th>2</th>\n",
              "      <td>0.651852</td>\n",
              "      <td>0.666667</td>\n",
              "      <td>0.180363</td>\n",
              "      <td>0.136416</td>\n",
              "      <td>0.199337</td>\n",
              "      <td>0.245422</td>\n",
              "      <td>0.223646</td>\n",
              "      <td>0.197579</td>\n",
              "      <td>0.527660</td>\n",
              "      <td>0.777455</td>\n",
              "      <td>0.416403</td>\n",
              "      <td>0.472832</td>\n",
              "      <td>0.541551</td>\n",
              "      <td>0.332845</td>\n",
              "      <td>0.562174</td>\n",
              "      <td>0.278570</td>\n",
              "      <td>0.540804</td>\n",
              "      <td>0.219201</td>\n",
              "      <td>0.489991</td>\n",
              "      <td>0.403904</td>\n",
              "      <td>0.740470</td>\n",
              "      <td>0.431741</td>\n",
              "      <td>0.589034</td>\n",
              "      <td>0.596620</td>\n",
              "      <td>0.622609</td>\n",
              "      <td>0.491469</td>\n",
              "      <td>0.502327</td>\n",
              "      <td>0.387789</td>\n",
              "    </tr>\n",
              "    <tr>\n",
              "      <th>3</th>\n",
              "      <td>0.412500</td>\n",
              "      <td>0.454545</td>\n",
              "      <td>0.569598</td>\n",
              "      <td>0.347538</td>\n",
              "      <td>0.500477</td>\n",
              "      <td>0.491060</td>\n",
              "      <td>0.545970</td>\n",
              "      <td>0.576322</td>\n",
              "      <td>0.790457</td>\n",
              "      <td>0.491589</td>\n",
              "      <td>0.428337</td>\n",
              "      <td>0.949365</td>\n",
              "      <td>0.161920</td>\n",
              "      <td>0.869602</td>\n",
              "      <td>0.231061</td>\n",
              "      <td>0.676749</td>\n",
              "      <td>0.320796</td>\n",
              "      <td>0.595420</td>\n",
              "      <td>0.322247</td>\n",
              "      <td>0.616459</td>\n",
              "      <td>0.469188</td>\n",
              "      <td>0.678863</td>\n",
              "      <td>0.240742</td>\n",
              "      <td>0.419428</td>\n",
              "      <td>0.418008</td>\n",
              "      <td>0.342894</td>\n",
              "      <td>0.305517</td>\n",
              "      <td>0.367009</td>\n",
              "    </tr>\n",
              "    <tr>\n",
              "      <th>4</th>\n",
              "      <td>0.292824</td>\n",
              "      <td>0.353535</td>\n",
              "      <td>0.355639</td>\n",
              "      <td>0.153357</td>\n",
              "      <td>0.533771</td>\n",
              "      <td>0.632742</td>\n",
              "      <td>0.575432</td>\n",
              "      <td>0.437455</td>\n",
              "      <td>0.666313</td>\n",
              "      <td>0.396347</td>\n",
              "      <td>0.500737</td>\n",
              "      <td>0.353014</td>\n",
              "      <td>0.635626</td>\n",
              "      <td>0.468048</td>\n",
              "      <td>0.525923</td>\n",
              "      <td>0.286506</td>\n",
              "      <td>0.501846</td>\n",
              "      <td>0.079557</td>\n",
              "      <td>0.526816</td>\n",
              "      <td>0.349918</td>\n",
              "      <td>0.564061</td>\n",
              "      <td>0.233727</td>\n",
              "      <td>0.430001</td>\n",
              "      <td>0.295288</td>\n",
              "      <td>0.464421</td>\n",
              "      <td>0.488493</td>\n",
              "      <td>0.497017</td>\n",
              "      <td>0.430735</td>\n",
              "    </tr>\n",
              "    <tr>\n",
              "      <th>...</th>\n",
              "      <td>...</td>\n",
              "      <td>...</td>\n",
              "      <td>...</td>\n",
              "      <td>...</td>\n",
              "      <td>...</td>\n",
              "      <td>...</td>\n",
              "      <td>...</td>\n",
              "      <td>...</td>\n",
              "      <td>...</td>\n",
              "      <td>...</td>\n",
              "      <td>...</td>\n",
              "      <td>...</td>\n",
              "      <td>...</td>\n",
              "      <td>...</td>\n",
              "      <td>...</td>\n",
              "      <td>...</td>\n",
              "      <td>...</td>\n",
              "      <td>...</td>\n",
              "      <td>...</td>\n",
              "      <td>...</td>\n",
              "      <td>...</td>\n",
              "      <td>...</td>\n",
              "      <td>...</td>\n",
              "      <td>...</td>\n",
              "      <td>...</td>\n",
              "      <td>...</td>\n",
              "      <td>...</td>\n",
              "      <td>...</td>\n",
              "    </tr>\n",
              "    <tr>\n",
              "      <th>95</th>\n",
              "      <td>0.246795</td>\n",
              "      <td>0.292929</td>\n",
              "      <td>0.735767</td>\n",
              "      <td>0.672939</td>\n",
              "      <td>0.581070</td>\n",
              "      <td>0.631865</td>\n",
              "      <td>0.649564</td>\n",
              "      <td>0.435213</td>\n",
              "      <td>0.926518</td>\n",
              "      <td>0.384993</td>\n",
              "      <td>0.504932</td>\n",
              "      <td>0.749732</td>\n",
              "      <td>0.525614</td>\n",
              "      <td>0.848474</td>\n",
              "      <td>0.449175</td>\n",
              "      <td>0.780249</td>\n",
              "      <td>0.431919</td>\n",
              "      <td>0.837449</td>\n",
              "      <td>0.418132</td>\n",
              "      <td>0.766200</td>\n",
              "      <td>0.442120</td>\n",
              "      <td>0.570986</td>\n",
              "      <td>0.365252</td>\n",
              "      <td>0.760356</td>\n",
              "      <td>0.375387</td>\n",
              "      <td>0.519412</td>\n",
              "      <td>0.466880</td>\n",
              "      <td>0.621018</td>\n",
              "    </tr>\n",
              "    <tr>\n",
              "      <th>96</th>\n",
              "      <td>0.268889</td>\n",
              "      <td>0.313131</td>\n",
              "      <td>0.790694</td>\n",
              "      <td>0.535813</td>\n",
              "      <td>0.421759</td>\n",
              "      <td>0.531294</td>\n",
              "      <td>0.509848</td>\n",
              "      <td>0.302708</td>\n",
              "      <td>0.769239</td>\n",
              "      <td>0.491885</td>\n",
              "      <td>0.596217</td>\n",
              "      <td>0.686765</td>\n",
              "      <td>0.458789</td>\n",
              "      <td>0.837344</td>\n",
              "      <td>0.462540</td>\n",
              "      <td>0.620724</td>\n",
              "      <td>0.448860</td>\n",
              "      <td>0.734599</td>\n",
              "      <td>0.501433</td>\n",
              "      <td>0.684323</td>\n",
              "      <td>0.593053</td>\n",
              "      <td>0.647133</td>\n",
              "      <td>0.471414</td>\n",
              "      <td>0.669949</td>\n",
              "      <td>0.487440</td>\n",
              "      <td>0.503434</td>\n",
              "      <td>0.560131</td>\n",
              "      <td>0.678085</td>\n",
              "    </tr>\n",
              "    <tr>\n",
              "      <th>97</th>\n",
              "      <td>0.292824</td>\n",
              "      <td>0.353535</td>\n",
              "      <td>0.518673</td>\n",
              "      <td>0.371519</td>\n",
              "      <td>0.470384</td>\n",
              "      <td>0.494946</td>\n",
              "      <td>0.526058</td>\n",
              "      <td>0.418783</td>\n",
              "      <td>0.747711</td>\n",
              "      <td>0.428887</td>\n",
              "      <td>0.404214</td>\n",
              "      <td>0.604298</td>\n",
              "      <td>0.431882</td>\n",
              "      <td>0.812113</td>\n",
              "      <td>0.439413</td>\n",
              "      <td>0.689266</td>\n",
              "      <td>0.460509</td>\n",
              "      <td>0.762851</td>\n",
              "      <td>0.514622</td>\n",
              "      <td>0.598092</td>\n",
              "      <td>0.571256</td>\n",
              "      <td>0.555460</td>\n",
              "      <td>0.449581</td>\n",
              "      <td>0.643284</td>\n",
              "      <td>0.589918</td>\n",
              "      <td>0.620232</td>\n",
              "      <td>0.569603</td>\n",
              "      <td>0.673297</td>\n",
              "    </tr>\n",
              "    <tr>\n",
              "      <th>98</th>\n",
              "      <td>0.226337</td>\n",
              "      <td>0.262626</td>\n",
              "      <td>0.542317</td>\n",
              "      <td>0.216975</td>\n",
              "      <td>0.546896</td>\n",
              "      <td>0.470582</td>\n",
              "      <td>0.532808</td>\n",
              "      <td>0.614756</td>\n",
              "      <td>0.742688</td>\n",
              "      <td>0.435153</td>\n",
              "      <td>0.304727</td>\n",
              "      <td>0.757612</td>\n",
              "      <td>0.446673</td>\n",
              "      <td>0.657506</td>\n",
              "      <td>0.356819</td>\n",
              "      <td>0.623932</td>\n",
              "      <td>0.314039</td>\n",
              "      <td>0.767198</td>\n",
              "      <td>0.218641</td>\n",
              "      <td>0.739539</td>\n",
              "      <td>0.254010</td>\n",
              "      <td>0.517614</td>\n",
              "      <td>0.333503</td>\n",
              "      <td>0.739159</td>\n",
              "      <td>0.323442</td>\n",
              "      <td>0.686981</td>\n",
              "      <td>0.386886</td>\n",
              "      <td>0.602798</td>\n",
              "    </tr>\n",
              "    <tr>\n",
              "      <th>99</th>\n",
              "      <td>0.412500</td>\n",
              "      <td>0.454545</td>\n",
              "      <td>0.549597</td>\n",
              "      <td>0.289709</td>\n",
              "      <td>0.633115</td>\n",
              "      <td>0.660672</td>\n",
              "      <td>0.656660</td>\n",
              "      <td>0.588447</td>\n",
              "      <td>0.813201</td>\n",
              "      <td>0.332221</td>\n",
              "      <td>0.505208</td>\n",
              "      <td>0.470254</td>\n",
              "      <td>0.669184</td>\n",
              "      <td>0.485700</td>\n",
              "      <td>0.511203</td>\n",
              "      <td>0.465651</td>\n",
              "      <td>0.604134</td>\n",
              "      <td>0.266056</td>\n",
              "      <td>0.480763</td>\n",
              "      <td>0.305547</td>\n",
              "      <td>0.649619</td>\n",
              "      <td>0.196903</td>\n",
              "      <td>0.380180</td>\n",
              "      <td>0.365130</td>\n",
              "      <td>0.446420</td>\n",
              "      <td>0.241299</td>\n",
              "      <td>0.507702</td>\n",
              "      <td>0.539505</td>\n",
              "    </tr>\n",
              "  </tbody>\n",
              "</table>\n",
              "<p>100 rows × 28 columns</p>\n",
              "</div>"
            ],
            "text/plain": [
              "       tempo     beats  chroma_stft  ...    mfcc18    mfcc19    mfcc20\n",
              "0   0.292824  0.282828     0.479320  ...  0.563974  0.432337  0.732405\n",
              "1   0.207341  0.272727     0.568016  ...  0.397420  0.553604  0.486496\n",
              "2   0.651852  0.666667     0.180363  ...  0.491469  0.502327  0.387789\n",
              "3   0.412500  0.454545     0.569598  ...  0.342894  0.305517  0.367009\n",
              "4   0.292824  0.353535     0.355639  ...  0.488493  0.497017  0.430735\n",
              "..       ...       ...          ...  ...       ...       ...       ...\n",
              "95  0.246795  0.292929     0.735767  ...  0.519412  0.466880  0.621018\n",
              "96  0.268889  0.313131     0.790694  ...  0.503434  0.560131  0.678085\n",
              "97  0.292824  0.353535     0.518673  ...  0.620232  0.569603  0.673297\n",
              "98  0.226337  0.262626     0.542317  ...  0.686981  0.386886  0.602798\n",
              "99  0.412500  0.454545     0.549597  ...  0.241299  0.507702  0.539505\n",
              "\n",
              "[100 rows x 28 columns]"
            ]
          },
          "metadata": {
            "tags": []
          },
          "execution_count": 77
        }
      ]
    },
    {
      "cell_type": "code",
      "metadata": {
        "colab": {
          "base_uri": "https://localhost:8080/"
        },
        "id": "EFBO7PnMM9uH",
        "outputId": "69958c4f-173f-4461-bf01-12557f75fc3d"
      },
      "source": [
        "a = int(input('Entrez le numero de ligne(entre 0 a 99) du data test(X_test) pour faire la prediction'))\n",
        "print(\"\\n\")\n",
        "if a:\n",
        "    pred=model_f.predict(X_test)\n",
        "    print(\"le genre de cette musique est: \",uniques[np.argmax(pred[a])])\n",
        "else:\n",
        "    print(\"Erreur!\")"
      ],
      "execution_count": 87,
      "outputs": [
        {
          "output_type": "stream",
          "text": [
            "Entrez le numero de ligne(entre 0 a 99) du data test(X_test) pour faire la prediction10\n",
            "\n",
            "\n",
            "le genre de cette musique est:  country\n"
          ],
          "name": "stdout"
        }
      ]
    },
    {
      "cell_type": "markdown",
      "metadata": {
        "id": "BKOwwpLCCIsr"
      },
      "source": [
        "# FIN"
      ]
    }
  ]
}